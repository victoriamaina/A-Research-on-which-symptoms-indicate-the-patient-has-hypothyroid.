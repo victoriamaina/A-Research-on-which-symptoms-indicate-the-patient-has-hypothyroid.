{
  "nbformat": 4,
  "nbformat_minor": 0,
  "metadata": {
    "colab": {
      "name": "Hypothyroid.ipynb",
      "provenance": [],
      "collapsed_sections": [],
      "include_colab_link": true
    },
    "kernelspec": {
      "name": "python3",
      "display_name": "Python 3"
    },
    "language_info": {
      "name": "python"
    }
  },
  "cells": [
    {
      "cell_type": "markdown",
      "metadata": {
        "id": "view-in-github",
        "colab_type": "text"
      },
      "source": [
        "<a href=\"https://colab.research.google.com/github/victoriamaina/A-Research-on-which-symptoms-indicate-the-patient-has-hypothyroid./blob/main/Hypothyroid.ipynb\" target=\"_parent\"><img src=\"https://colab.research.google.com/assets/colab-badge.svg\" alt=\"Open In Colab\"/></a>"
      ]
    },
    {
      "cell_type": "markdown",
      "source": [
        "# **A Research on which symptoms indicate the patient has hypothyroid.**"
      ],
      "metadata": {
        "id": "Q0Xmv5p8RdZe"
      }
    },
    {
      "cell_type": "markdown",
      "source": [
        "By\n",
        " Victoria Maina\n",
        "\n"
      ],
      "metadata": {
        "id": "5QORbAg2JrhO"
      }
    },
    {
      "cell_type": "markdown",
      "source": [
        "## **1. Defining the Question**"
      ],
      "metadata": {
        "id": "tN09GpzZRoL5"
      }
    },
    {
      "cell_type": "markdown",
      "source": [
        "Hypothyroidism (underactive thyroid) is a condition in which your thyroid gland doesn't produce enough of certain crucial hormones.\n",
        "\n",
        "Nairobi hospital wishes to know whether a patient's symptoms indicate the patient has hypothyroid.\n",
        "\n"
      ],
      "metadata": {
        "id": "952KpwOnGWLv"
      }
    },
    {
      "cell_type": "markdown",
      "source": [
        "### a) Specifying the Question"
      ],
      "metadata": {
        "id": "CYUFrTc0R5IK"
      }
    },
    {
      "cell_type": "markdown",
      "source": [
        "\n",
        "\n",
        "To build a model that determines whether or not the patient's symptoms indicate that the patient has hypothyroid.\n",
        "\n"
      ],
      "metadata": {
        "id": "bG4N2g3rsTZq"
      }
    },
    {
      "cell_type": "markdown",
      "source": [
        "### b) Defining the Metric for Success"
      ],
      "metadata": {
        "id": "V2vLapzeR8Sy"
      }
    },
    {
      "cell_type": "markdown",
      "source": [
        "This project will be successful when:\n",
        "\n",
        "1)We Identify the most crucial independent variables that affect Hypothyroidism.\n",
        "\n",
        "2)The model achieves atleast 80% accuracy\n",
        "\n",
        "\n"
      ],
      "metadata": {
        "id": "8LmTRchPsY8y"
      }
    },
    {
      "cell_type": "markdown",
      "source": [
        "### c) Understanding the context "
      ],
      "metadata": {
        "id": "ajkvLdYfSCgr"
      }
    },
    {
      "cell_type": "markdown",
      "source": [
        ">  You have been tasked to study the symptoms of hypothyroid from a data collected from the Nairobi hospital. Later onwards, create a model that determines whether or not the patient's symptoms indicate that the patient has hypothyroid.\n"
      ],
      "metadata": {
        "id": "DYqRP8kumuaZ"
      }
    },
    {
      "cell_type": "markdown",
      "source": [
        "### d) Recording the Experimental Design"
      ],
      "metadata": {
        "id": "drZumxWMSHRy"
      }
    },
    {
      "cell_type": "markdown",
      "source": [
        "> The following steps were taken:\n",
        "\n",
        "Business Understanding\n",
        "\n",
        "Reading the data\n",
        "\n",
        "Checking our data\n",
        "\n",
        "Data cleaning\n",
        "\n",
        "Performing EDA\n",
        "\n",
        "Feature Engineering\n",
        "\n",
        "Hyperparemeter tuning \n",
        "\n",
        "Decision Trees\n",
        "\n",
        "Support Vector Machine \n",
        "\n",
        "Challenging the solution\n",
        "\n",
        "Conclusion"
      ],
      "metadata": {
        "id": "6RpukPetSLFa"
      }
    },
    {
      "cell_type": "markdown",
      "source": [
        "### e) Data Relevance"
      ],
      "metadata": {
        "id": "bT3J2iQzmxyr"
      }
    },
    {
      "cell_type": "markdown",
      "source": [
        "Datasets Provided:\n",
        "\n",
        "hypothyroid [Link](http://bit.ly/hypothyroid_data)"
      ],
      "metadata": {
        "id": "Fut1YKAASrtU"
      }
    },
    {
      "cell_type": "markdown",
      "source": [
        "## **2. Reading the Data**"
      ],
      "metadata": {
        "id": "HA1_CSwQTPd1"
      }
    },
    {
      "cell_type": "code",
      "execution_count": 1,
      "metadata": {
        "id": "cK0w6thvxe06"
      },
      "outputs": [],
      "source": [
        "# Importing the libraries we will need \n",
        "\n",
        "import pandas as pd\n",
        "\n",
        "import numpy as np\n",
        "\n",
        "import seaborn as sns\n",
        "\n",
        "import matplotlib.pyplot as plt\n",
        "\n",
        "import scipy.stats\n",
        "\n",
        "from scipy import stats"
      ]
    },
    {
      "cell_type": "markdown",
      "source": [
        "### Reading the Dataset from our CSV file"
      ],
      "metadata": {
        "id": "bNRIkEW0U8wx"
      }
    },
    {
      "cell_type": "code",
      "source": [
        "#loading the dataset\n",
        "df=pd.read_csv(\"/content/hypothyroid.csv\")\n",
        "#previewing the dataset\n",
        "df.head()"
      ],
      "metadata": {
        "id": "HBW99Tn2xiio",
        "colab": {
          "base_uri": "https://localhost:8080/",
          "height": 270
        },
        "outputId": "0cb67517-d310-4ea4-ed4d-8e15acd354e4"
      },
      "execution_count": 2,
      "outputs": [
        {
          "output_type": "execute_result",
          "data": {
            "text/html": [
              "\n",
              "  <div id=\"df-7729f74a-0e87-4698-b362-6d437451c323\">\n",
              "    <div class=\"colab-df-container\">\n",
              "      <div>\n",
              "<style scoped>\n",
              "    .dataframe tbody tr th:only-of-type {\n",
              "        vertical-align: middle;\n",
              "    }\n",
              "\n",
              "    .dataframe tbody tr th {\n",
              "        vertical-align: top;\n",
              "    }\n",
              "\n",
              "    .dataframe thead th {\n",
              "        text-align: right;\n",
              "    }\n",
              "</style>\n",
              "<table border=\"1\" class=\"dataframe\">\n",
              "  <thead>\n",
              "    <tr style=\"text-align: right;\">\n",
              "      <th></th>\n",
              "      <th>status</th>\n",
              "      <th>age</th>\n",
              "      <th>sex</th>\n",
              "      <th>on_thyroxine</th>\n",
              "      <th>query_on_thyroxine</th>\n",
              "      <th>on_antithyroid_medication</th>\n",
              "      <th>thyroid_surgery</th>\n",
              "      <th>query_hypothyroid</th>\n",
              "      <th>query_hyperthyroid</th>\n",
              "      <th>pregnant</th>\n",
              "      <th>sick</th>\n",
              "      <th>tumor</th>\n",
              "      <th>lithium</th>\n",
              "      <th>goitre</th>\n",
              "      <th>TSH_measured</th>\n",
              "      <th>TSH</th>\n",
              "      <th>T3_measured</th>\n",
              "      <th>T3</th>\n",
              "      <th>TT4_measured</th>\n",
              "      <th>TT4</th>\n",
              "      <th>T4U_measured</th>\n",
              "      <th>T4U</th>\n",
              "      <th>FTI_measured</th>\n",
              "      <th>FTI</th>\n",
              "      <th>TBG_measured</th>\n",
              "      <th>TBG</th>\n",
              "    </tr>\n",
              "  </thead>\n",
              "  <tbody>\n",
              "    <tr>\n",
              "      <th>0</th>\n",
              "      <td>hypothyroid</td>\n",
              "      <td>72</td>\n",
              "      <td>M</td>\n",
              "      <td>f</td>\n",
              "      <td>f</td>\n",
              "      <td>f</td>\n",
              "      <td>f</td>\n",
              "      <td>f</td>\n",
              "      <td>f</td>\n",
              "      <td>f</td>\n",
              "      <td>f</td>\n",
              "      <td>f</td>\n",
              "      <td>f</td>\n",
              "      <td>f</td>\n",
              "      <td>y</td>\n",
              "      <td>30</td>\n",
              "      <td>y</td>\n",
              "      <td>0.60</td>\n",
              "      <td>y</td>\n",
              "      <td>15</td>\n",
              "      <td>y</td>\n",
              "      <td>1.48</td>\n",
              "      <td>y</td>\n",
              "      <td>10</td>\n",
              "      <td>n</td>\n",
              "      <td>?</td>\n",
              "    </tr>\n",
              "    <tr>\n",
              "      <th>1</th>\n",
              "      <td>hypothyroid</td>\n",
              "      <td>15</td>\n",
              "      <td>F</td>\n",
              "      <td>t</td>\n",
              "      <td>f</td>\n",
              "      <td>f</td>\n",
              "      <td>f</td>\n",
              "      <td>f</td>\n",
              "      <td>f</td>\n",
              "      <td>f</td>\n",
              "      <td>f</td>\n",
              "      <td>f</td>\n",
              "      <td>f</td>\n",
              "      <td>f</td>\n",
              "      <td>y</td>\n",
              "      <td>145</td>\n",
              "      <td>y</td>\n",
              "      <td>1.70</td>\n",
              "      <td>y</td>\n",
              "      <td>19</td>\n",
              "      <td>y</td>\n",
              "      <td>1.13</td>\n",
              "      <td>y</td>\n",
              "      <td>17</td>\n",
              "      <td>n</td>\n",
              "      <td>?</td>\n",
              "    </tr>\n",
              "    <tr>\n",
              "      <th>2</th>\n",
              "      <td>hypothyroid</td>\n",
              "      <td>24</td>\n",
              "      <td>M</td>\n",
              "      <td>f</td>\n",
              "      <td>f</td>\n",
              "      <td>f</td>\n",
              "      <td>f</td>\n",
              "      <td>f</td>\n",
              "      <td>f</td>\n",
              "      <td>f</td>\n",
              "      <td>f</td>\n",
              "      <td>f</td>\n",
              "      <td>f</td>\n",
              "      <td>f</td>\n",
              "      <td>y</td>\n",
              "      <td>0</td>\n",
              "      <td>y</td>\n",
              "      <td>0.20</td>\n",
              "      <td>y</td>\n",
              "      <td>4</td>\n",
              "      <td>y</td>\n",
              "      <td>1</td>\n",
              "      <td>y</td>\n",
              "      <td>0</td>\n",
              "      <td>n</td>\n",
              "      <td>?</td>\n",
              "    </tr>\n",
              "    <tr>\n",
              "      <th>3</th>\n",
              "      <td>hypothyroid</td>\n",
              "      <td>24</td>\n",
              "      <td>F</td>\n",
              "      <td>f</td>\n",
              "      <td>f</td>\n",
              "      <td>f</td>\n",
              "      <td>f</td>\n",
              "      <td>f</td>\n",
              "      <td>f</td>\n",
              "      <td>f</td>\n",
              "      <td>f</td>\n",
              "      <td>f</td>\n",
              "      <td>f</td>\n",
              "      <td>f</td>\n",
              "      <td>y</td>\n",
              "      <td>430</td>\n",
              "      <td>y</td>\n",
              "      <td>0.40</td>\n",
              "      <td>y</td>\n",
              "      <td>6</td>\n",
              "      <td>y</td>\n",
              "      <td>1.04</td>\n",
              "      <td>y</td>\n",
              "      <td>6</td>\n",
              "      <td>n</td>\n",
              "      <td>?</td>\n",
              "    </tr>\n",
              "    <tr>\n",
              "      <th>4</th>\n",
              "      <td>hypothyroid</td>\n",
              "      <td>77</td>\n",
              "      <td>M</td>\n",
              "      <td>f</td>\n",
              "      <td>f</td>\n",
              "      <td>f</td>\n",
              "      <td>f</td>\n",
              "      <td>f</td>\n",
              "      <td>f</td>\n",
              "      <td>f</td>\n",
              "      <td>f</td>\n",
              "      <td>f</td>\n",
              "      <td>f</td>\n",
              "      <td>f</td>\n",
              "      <td>y</td>\n",
              "      <td>7.30</td>\n",
              "      <td>y</td>\n",
              "      <td>1.20</td>\n",
              "      <td>y</td>\n",
              "      <td>57</td>\n",
              "      <td>y</td>\n",
              "      <td>1.28</td>\n",
              "      <td>y</td>\n",
              "      <td>44</td>\n",
              "      <td>n</td>\n",
              "      <td>?</td>\n",
              "    </tr>\n",
              "  </tbody>\n",
              "</table>\n",
              "</div>\n",
              "      <button class=\"colab-df-convert\" onclick=\"convertToInteractive('df-7729f74a-0e87-4698-b362-6d437451c323')\"\n",
              "              title=\"Convert this dataframe to an interactive table.\"\n",
              "              style=\"display:none;\">\n",
              "        \n",
              "  <svg xmlns=\"http://www.w3.org/2000/svg\" height=\"24px\"viewBox=\"0 0 24 24\"\n",
              "       width=\"24px\">\n",
              "    <path d=\"M0 0h24v24H0V0z\" fill=\"none\"/>\n",
              "    <path d=\"M18.56 5.44l.94 2.06.94-2.06 2.06-.94-2.06-.94-.94-2.06-.94 2.06-2.06.94zm-11 1L8.5 8.5l.94-2.06 2.06-.94-2.06-.94L8.5 2.5l-.94 2.06-2.06.94zm10 10l.94 2.06.94-2.06 2.06-.94-2.06-.94-.94-2.06-.94 2.06-2.06.94z\"/><path d=\"M17.41 7.96l-1.37-1.37c-.4-.4-.92-.59-1.43-.59-.52 0-1.04.2-1.43.59L10.3 9.45l-7.72 7.72c-.78.78-.78 2.05 0 2.83L4 21.41c.39.39.9.59 1.41.59.51 0 1.02-.2 1.41-.59l7.78-7.78 2.81-2.81c.8-.78.8-2.07 0-2.86zM5.41 20L4 18.59l7.72-7.72 1.47 1.35L5.41 20z\"/>\n",
              "  </svg>\n",
              "      </button>\n",
              "      \n",
              "  <style>\n",
              "    .colab-df-container {\n",
              "      display:flex;\n",
              "      flex-wrap:wrap;\n",
              "      gap: 12px;\n",
              "    }\n",
              "\n",
              "    .colab-df-convert {\n",
              "      background-color: #E8F0FE;\n",
              "      border: none;\n",
              "      border-radius: 50%;\n",
              "      cursor: pointer;\n",
              "      display: none;\n",
              "      fill: #1967D2;\n",
              "      height: 32px;\n",
              "      padding: 0 0 0 0;\n",
              "      width: 32px;\n",
              "    }\n",
              "\n",
              "    .colab-df-convert:hover {\n",
              "      background-color: #E2EBFA;\n",
              "      box-shadow: 0px 1px 2px rgba(60, 64, 67, 0.3), 0px 1px 3px 1px rgba(60, 64, 67, 0.15);\n",
              "      fill: #174EA6;\n",
              "    }\n",
              "\n",
              "    [theme=dark] .colab-df-convert {\n",
              "      background-color: #3B4455;\n",
              "      fill: #D2E3FC;\n",
              "    }\n",
              "\n",
              "    [theme=dark] .colab-df-convert:hover {\n",
              "      background-color: #434B5C;\n",
              "      box-shadow: 0px 1px 3px 1px rgba(0, 0, 0, 0.15);\n",
              "      filter: drop-shadow(0px 1px 2px rgba(0, 0, 0, 0.3));\n",
              "      fill: #FFFFFF;\n",
              "    }\n",
              "  </style>\n",
              "\n",
              "      <script>\n",
              "        const buttonEl =\n",
              "          document.querySelector('#df-7729f74a-0e87-4698-b362-6d437451c323 button.colab-df-convert');\n",
              "        buttonEl.style.display =\n",
              "          google.colab.kernel.accessAllowed ? 'block' : 'none';\n",
              "\n",
              "        async function convertToInteractive(key) {\n",
              "          const element = document.querySelector('#df-7729f74a-0e87-4698-b362-6d437451c323');\n",
              "          const dataTable =\n",
              "            await google.colab.kernel.invokeFunction('convertToInteractive',\n",
              "                                                     [key], {});\n",
              "          if (!dataTable) return;\n",
              "\n",
              "          const docLinkHtml = 'Like what you see? Visit the ' +\n",
              "            '<a target=\"_blank\" href=https://colab.research.google.com/notebooks/data_table.ipynb>data table notebook</a>'\n",
              "            + ' to learn more about interactive tables.';\n",
              "          element.innerHTML = '';\n",
              "          dataTable['output_type'] = 'display_data';\n",
              "          await google.colab.output.renderOutput(dataTable, element);\n",
              "          const docLink = document.createElement('div');\n",
              "          docLink.innerHTML = docLinkHtml;\n",
              "          element.appendChild(docLink);\n",
              "        }\n",
              "      </script>\n",
              "    </div>\n",
              "  </div>\n",
              "  "
            ],
            "text/plain": [
              "        status age sex on_thyroxine  ... FTI_measured FTI TBG_measured TBG\n",
              "0  hypothyroid  72   M            f  ...            y  10            n   ?\n",
              "1  hypothyroid  15   F            t  ...            y  17            n   ?\n",
              "2  hypothyroid  24   M            f  ...            y   0            n   ?\n",
              "3  hypothyroid  24   F            f  ...            y   6            n   ?\n",
              "4  hypothyroid  77   M            f  ...            y  44            n   ?\n",
              "\n",
              "[5 rows x 26 columns]"
            ]
          },
          "metadata": {},
          "execution_count": 2
        }
      ]
    },
    {
      "cell_type": "code",
      "source": [
        "#checking the tail\n",
        "df.tail()"
      ],
      "metadata": {
        "id": "jdWoRlRHVKJT",
        "colab": {
          "base_uri": "https://localhost:8080/",
          "height": 270
        },
        "outputId": "8c20e9f0-b492-4910-d27d-0ea168c9fef5"
      },
      "execution_count": 3,
      "outputs": [
        {
          "output_type": "execute_result",
          "data": {
            "text/html": [
              "\n",
              "  <div id=\"df-a735de24-0c31-46fe-a70c-a7734b77ab9d\">\n",
              "    <div class=\"colab-df-container\">\n",
              "      <div>\n",
              "<style scoped>\n",
              "    .dataframe tbody tr th:only-of-type {\n",
              "        vertical-align: middle;\n",
              "    }\n",
              "\n",
              "    .dataframe tbody tr th {\n",
              "        vertical-align: top;\n",
              "    }\n",
              "\n",
              "    .dataframe thead th {\n",
              "        text-align: right;\n",
              "    }\n",
              "</style>\n",
              "<table border=\"1\" class=\"dataframe\">\n",
              "  <thead>\n",
              "    <tr style=\"text-align: right;\">\n",
              "      <th></th>\n",
              "      <th>status</th>\n",
              "      <th>age</th>\n",
              "      <th>sex</th>\n",
              "      <th>on_thyroxine</th>\n",
              "      <th>query_on_thyroxine</th>\n",
              "      <th>on_antithyroid_medication</th>\n",
              "      <th>thyroid_surgery</th>\n",
              "      <th>query_hypothyroid</th>\n",
              "      <th>query_hyperthyroid</th>\n",
              "      <th>pregnant</th>\n",
              "      <th>sick</th>\n",
              "      <th>tumor</th>\n",
              "      <th>lithium</th>\n",
              "      <th>goitre</th>\n",
              "      <th>TSH_measured</th>\n",
              "      <th>TSH</th>\n",
              "      <th>T3_measured</th>\n",
              "      <th>T3</th>\n",
              "      <th>TT4_measured</th>\n",
              "      <th>TT4</th>\n",
              "      <th>T4U_measured</th>\n",
              "      <th>T4U</th>\n",
              "      <th>FTI_measured</th>\n",
              "      <th>FTI</th>\n",
              "      <th>TBG_measured</th>\n",
              "      <th>TBG</th>\n",
              "    </tr>\n",
              "  </thead>\n",
              "  <tbody>\n",
              "    <tr>\n",
              "      <th>3158</th>\n",
              "      <td>negative</td>\n",
              "      <td>58</td>\n",
              "      <td>F</td>\n",
              "      <td>f</td>\n",
              "      <td>f</td>\n",
              "      <td>f</td>\n",
              "      <td>f</td>\n",
              "      <td>f</td>\n",
              "      <td>f</td>\n",
              "      <td>f</td>\n",
              "      <td>f</td>\n",
              "      <td>f</td>\n",
              "      <td>f</td>\n",
              "      <td>f</td>\n",
              "      <td>y</td>\n",
              "      <td>5.80</td>\n",
              "      <td>y</td>\n",
              "      <td>1.70</td>\n",
              "      <td>y</td>\n",
              "      <td>86</td>\n",
              "      <td>y</td>\n",
              "      <td>0.91</td>\n",
              "      <td>y</td>\n",
              "      <td>95</td>\n",
              "      <td>n</td>\n",
              "      <td>?</td>\n",
              "    </tr>\n",
              "    <tr>\n",
              "      <th>3159</th>\n",
              "      <td>negative</td>\n",
              "      <td>29</td>\n",
              "      <td>F</td>\n",
              "      <td>f</td>\n",
              "      <td>f</td>\n",
              "      <td>f</td>\n",
              "      <td>f</td>\n",
              "      <td>f</td>\n",
              "      <td>f</td>\n",
              "      <td>f</td>\n",
              "      <td>f</td>\n",
              "      <td>f</td>\n",
              "      <td>f</td>\n",
              "      <td>f</td>\n",
              "      <td>y</td>\n",
              "      <td>0.80</td>\n",
              "      <td>y</td>\n",
              "      <td>1.80</td>\n",
              "      <td>y</td>\n",
              "      <td>99</td>\n",
              "      <td>y</td>\n",
              "      <td>1.01</td>\n",
              "      <td>y</td>\n",
              "      <td>98</td>\n",
              "      <td>n</td>\n",
              "      <td>?</td>\n",
              "    </tr>\n",
              "    <tr>\n",
              "      <th>3160</th>\n",
              "      <td>negative</td>\n",
              "      <td>77</td>\n",
              "      <td>M</td>\n",
              "      <td>f</td>\n",
              "      <td>f</td>\n",
              "      <td>f</td>\n",
              "      <td>f</td>\n",
              "      <td>f</td>\n",
              "      <td>f</td>\n",
              "      <td>f</td>\n",
              "      <td>f</td>\n",
              "      <td>f</td>\n",
              "      <td>f</td>\n",
              "      <td>f</td>\n",
              "      <td>y</td>\n",
              "      <td>1.20</td>\n",
              "      <td>y</td>\n",
              "      <td>0.60</td>\n",
              "      <td>y</td>\n",
              "      <td>71</td>\n",
              "      <td>y</td>\n",
              "      <td>0.68</td>\n",
              "      <td>y</td>\n",
              "      <td>104</td>\n",
              "      <td>n</td>\n",
              "      <td>?</td>\n",
              "    </tr>\n",
              "    <tr>\n",
              "      <th>3161</th>\n",
              "      <td>negative</td>\n",
              "      <td>74</td>\n",
              "      <td>F</td>\n",
              "      <td>f</td>\n",
              "      <td>f</td>\n",
              "      <td>f</td>\n",
              "      <td>f</td>\n",
              "      <td>f</td>\n",
              "      <td>f</td>\n",
              "      <td>f</td>\n",
              "      <td>f</td>\n",
              "      <td>f</td>\n",
              "      <td>f</td>\n",
              "      <td>f</td>\n",
              "      <td>y</td>\n",
              "      <td>1.30</td>\n",
              "      <td>y</td>\n",
              "      <td>0.10</td>\n",
              "      <td>y</td>\n",
              "      <td>65</td>\n",
              "      <td>y</td>\n",
              "      <td>0.48</td>\n",
              "      <td>y</td>\n",
              "      <td>137</td>\n",
              "      <td>n</td>\n",
              "      <td>?</td>\n",
              "    </tr>\n",
              "    <tr>\n",
              "      <th>3162</th>\n",
              "      <td>negative</td>\n",
              "      <td>56</td>\n",
              "      <td>F</td>\n",
              "      <td>t</td>\n",
              "      <td>f</td>\n",
              "      <td>f</td>\n",
              "      <td>f</td>\n",
              "      <td>f</td>\n",
              "      <td>f</td>\n",
              "      <td>f</td>\n",
              "      <td>f</td>\n",
              "      <td>f</td>\n",
              "      <td>f</td>\n",
              "      <td>f</td>\n",
              "      <td>y</td>\n",
              "      <td>0</td>\n",
              "      <td>y</td>\n",
              "      <td>1.80</td>\n",
              "      <td>y</td>\n",
              "      <td>139</td>\n",
              "      <td>y</td>\n",
              "      <td>0.97</td>\n",
              "      <td>y</td>\n",
              "      <td>143</td>\n",
              "      <td>n</td>\n",
              "      <td>?</td>\n",
              "    </tr>\n",
              "  </tbody>\n",
              "</table>\n",
              "</div>\n",
              "      <button class=\"colab-df-convert\" onclick=\"convertToInteractive('df-a735de24-0c31-46fe-a70c-a7734b77ab9d')\"\n",
              "              title=\"Convert this dataframe to an interactive table.\"\n",
              "              style=\"display:none;\">\n",
              "        \n",
              "  <svg xmlns=\"http://www.w3.org/2000/svg\" height=\"24px\"viewBox=\"0 0 24 24\"\n",
              "       width=\"24px\">\n",
              "    <path d=\"M0 0h24v24H0V0z\" fill=\"none\"/>\n",
              "    <path d=\"M18.56 5.44l.94 2.06.94-2.06 2.06-.94-2.06-.94-.94-2.06-.94 2.06-2.06.94zm-11 1L8.5 8.5l.94-2.06 2.06-.94-2.06-.94L8.5 2.5l-.94 2.06-2.06.94zm10 10l.94 2.06.94-2.06 2.06-.94-2.06-.94-.94-2.06-.94 2.06-2.06.94z\"/><path d=\"M17.41 7.96l-1.37-1.37c-.4-.4-.92-.59-1.43-.59-.52 0-1.04.2-1.43.59L10.3 9.45l-7.72 7.72c-.78.78-.78 2.05 0 2.83L4 21.41c.39.39.9.59 1.41.59.51 0 1.02-.2 1.41-.59l7.78-7.78 2.81-2.81c.8-.78.8-2.07 0-2.86zM5.41 20L4 18.59l7.72-7.72 1.47 1.35L5.41 20z\"/>\n",
              "  </svg>\n",
              "      </button>\n",
              "      \n",
              "  <style>\n",
              "    .colab-df-container {\n",
              "      display:flex;\n",
              "      flex-wrap:wrap;\n",
              "      gap: 12px;\n",
              "    }\n",
              "\n",
              "    .colab-df-convert {\n",
              "      background-color: #E8F0FE;\n",
              "      border: none;\n",
              "      border-radius: 50%;\n",
              "      cursor: pointer;\n",
              "      display: none;\n",
              "      fill: #1967D2;\n",
              "      height: 32px;\n",
              "      padding: 0 0 0 0;\n",
              "      width: 32px;\n",
              "    }\n",
              "\n",
              "    .colab-df-convert:hover {\n",
              "      background-color: #E2EBFA;\n",
              "      box-shadow: 0px 1px 2px rgba(60, 64, 67, 0.3), 0px 1px 3px 1px rgba(60, 64, 67, 0.15);\n",
              "      fill: #174EA6;\n",
              "    }\n",
              "\n",
              "    [theme=dark] .colab-df-convert {\n",
              "      background-color: #3B4455;\n",
              "      fill: #D2E3FC;\n",
              "    }\n",
              "\n",
              "    [theme=dark] .colab-df-convert:hover {\n",
              "      background-color: #434B5C;\n",
              "      box-shadow: 0px 1px 3px 1px rgba(0, 0, 0, 0.15);\n",
              "      filter: drop-shadow(0px 1px 2px rgba(0, 0, 0, 0.3));\n",
              "      fill: #FFFFFF;\n",
              "    }\n",
              "  </style>\n",
              "\n",
              "      <script>\n",
              "        const buttonEl =\n",
              "          document.querySelector('#df-a735de24-0c31-46fe-a70c-a7734b77ab9d button.colab-df-convert');\n",
              "        buttonEl.style.display =\n",
              "          google.colab.kernel.accessAllowed ? 'block' : 'none';\n",
              "\n",
              "        async function convertToInteractive(key) {\n",
              "          const element = document.querySelector('#df-a735de24-0c31-46fe-a70c-a7734b77ab9d');\n",
              "          const dataTable =\n",
              "            await google.colab.kernel.invokeFunction('convertToInteractive',\n",
              "                                                     [key], {});\n",
              "          if (!dataTable) return;\n",
              "\n",
              "          const docLinkHtml = 'Like what you see? Visit the ' +\n",
              "            '<a target=\"_blank\" href=https://colab.research.google.com/notebooks/data_table.ipynb>data table notebook</a>'\n",
              "            + ' to learn more about interactive tables.';\n",
              "          element.innerHTML = '';\n",
              "          dataTable['output_type'] = 'display_data';\n",
              "          await google.colab.output.renderOutput(dataTable, element);\n",
              "          const docLink = document.createElement('div');\n",
              "          docLink.innerHTML = docLinkHtml;\n",
              "          element.appendChild(docLink);\n",
              "        }\n",
              "      </script>\n",
              "    </div>\n",
              "  </div>\n",
              "  "
            ],
            "text/plain": [
              "        status age sex on_thyroxine  ... FTI_measured  FTI TBG_measured TBG\n",
              "3158  negative  58   F            f  ...            y   95            n   ?\n",
              "3159  negative  29   F            f  ...            y   98            n   ?\n",
              "3160  negative  77   M            f  ...            y  104            n   ?\n",
              "3161  negative  74   F            f  ...            y  137            n   ?\n",
              "3162  negative  56   F            t  ...            y  143            n   ?\n",
              "\n",
              "[5 rows x 26 columns]"
            ]
          },
          "metadata": {},
          "execution_count": 3
        }
      ]
    },
    {
      "cell_type": "markdown",
      "source": [
        "## **3. Data Understanding**"
      ],
      "metadata": {
        "id": "waIFFd-EVR9U"
      }
    },
    {
      "cell_type": "code",
      "source": [
        "#getting the info\n",
        "df.info()"
      ],
      "metadata": {
        "id": "ZuuHRMBdVXoM",
        "colab": {
          "base_uri": "https://localhost:8080/"
        },
        "outputId": "a8d6e5e5-7e68-47bf-d116-dab23f19b271"
      },
      "execution_count": 4,
      "outputs": [
        {
          "output_type": "stream",
          "name": "stdout",
          "text": [
            "<class 'pandas.core.frame.DataFrame'>\n",
            "RangeIndex: 3163 entries, 0 to 3162\n",
            "Data columns (total 26 columns):\n",
            " #   Column                     Non-Null Count  Dtype \n",
            "---  ------                     --------------  ----- \n",
            " 0   status                     3163 non-null   object\n",
            " 1   age                        3163 non-null   object\n",
            " 2   sex                        3163 non-null   object\n",
            " 3   on_thyroxine               3163 non-null   object\n",
            " 4   query_on_thyroxine         3163 non-null   object\n",
            " 5   on_antithyroid_medication  3163 non-null   object\n",
            " 6   thyroid_surgery            3163 non-null   object\n",
            " 7   query_hypothyroid          3163 non-null   object\n",
            " 8   query_hyperthyroid         3163 non-null   object\n",
            " 9   pregnant                   3163 non-null   object\n",
            " 10  sick                       3163 non-null   object\n",
            " 11  tumor                      3163 non-null   object\n",
            " 12  lithium                    3163 non-null   object\n",
            " 13  goitre                     3163 non-null   object\n",
            " 14  TSH_measured               3163 non-null   object\n",
            " 15  TSH                        3163 non-null   object\n",
            " 16  T3_measured                3163 non-null   object\n",
            " 17  T3                         3163 non-null   object\n",
            " 18  TT4_measured               3163 non-null   object\n",
            " 19  TT4                        3163 non-null   object\n",
            " 20  T4U_measured               3163 non-null   object\n",
            " 21  T4U                        3163 non-null   object\n",
            " 22  FTI_measured               3163 non-null   object\n",
            " 23  FTI                        3163 non-null   object\n",
            " 24  TBG_measured               3163 non-null   object\n",
            " 25  TBG                        3163 non-null   object\n",
            "dtypes: object(26)\n",
            "memory usage: 642.6+ KB\n"
          ]
        }
      ]
    },
    {
      "cell_type": "markdown",
      "source": [
        "Our dataset comprises of object data types."
      ],
      "metadata": {
        "id": "Ny5Pcg-Fls6y"
      }
    },
    {
      "cell_type": "code",
      "source": [
        "#checking the columns\n",
        "#\n",
        "df.columns"
      ],
      "metadata": {
        "id": "zMr9t_a7VbTr",
        "colab": {
          "base_uri": "https://localhost:8080/"
        },
        "outputId": "30e20a34-fafe-4196-eef2-2f97f960874a"
      },
      "execution_count": 5,
      "outputs": [
        {
          "output_type": "execute_result",
          "data": {
            "text/plain": [
              "Index(['status', 'age', 'sex', 'on_thyroxine', 'query_on_thyroxine',\n",
              "       'on_antithyroid_medication', 'thyroid_surgery', 'query_hypothyroid',\n",
              "       'query_hyperthyroid', 'pregnant', 'sick', 'tumor', 'lithium', 'goitre',\n",
              "       'TSH_measured', 'TSH', 'T3_measured', 'T3', 'TT4_measured', 'TT4',\n",
              "       'T4U_measured', 'T4U', 'FTI_measured', 'FTI', 'TBG_measured', 'TBG'],\n",
              "      dtype='object')"
            ]
          },
          "metadata": {},
          "execution_count": 5
        }
      ]
    },
    {
      "cell_type": "markdown",
      "source": [
        "We have 26 columns as shown above."
      ],
      "metadata": {
        "id": "MRLIuMZ8l1NC"
      }
    },
    {
      "cell_type": "code",
      "source": [
        "#Getting the shape\n",
        "#\n",
        "df.shape"
      ],
      "metadata": {
        "id": "YddYseyFVdlh",
        "colab": {
          "base_uri": "https://localhost:8080/"
        },
        "outputId": "2572de38-ccc3-4a49-fe92-8f5c263e18cf"
      },
      "execution_count": 6,
      "outputs": [
        {
          "output_type": "execute_result",
          "data": {
            "text/plain": [
              "(3163, 26)"
            ]
          },
          "metadata": {},
          "execution_count": 6
        }
      ]
    },
    {
      "cell_type": "markdown",
      "source": [
        "There are 3163 records and 26 variables."
      ],
      "metadata": {
        "id": "XAcHwWGul5Rx"
      }
    },
    {
      "cell_type": "code",
      "source": [
        "#getting basic statistical details\n",
        "df.describe()"
      ],
      "metadata": {
        "id": "M80cdKPDVf-2",
        "colab": {
          "base_uri": "https://localhost:8080/",
          "height": 239
        },
        "outputId": "151cea83-efcf-4ece-abf3-96e958433ca3"
      },
      "execution_count": 7,
      "outputs": [
        {
          "output_type": "execute_result",
          "data": {
            "text/html": [
              "\n",
              "  <div id=\"df-c3b68d5d-8c85-47bc-8bbf-0ae3684f384b\">\n",
              "    <div class=\"colab-df-container\">\n",
              "      <div>\n",
              "<style scoped>\n",
              "    .dataframe tbody tr th:only-of-type {\n",
              "        vertical-align: middle;\n",
              "    }\n",
              "\n",
              "    .dataframe tbody tr th {\n",
              "        vertical-align: top;\n",
              "    }\n",
              "\n",
              "    .dataframe thead th {\n",
              "        text-align: right;\n",
              "    }\n",
              "</style>\n",
              "<table border=\"1\" class=\"dataframe\">\n",
              "  <thead>\n",
              "    <tr style=\"text-align: right;\">\n",
              "      <th></th>\n",
              "      <th>status</th>\n",
              "      <th>age</th>\n",
              "      <th>sex</th>\n",
              "      <th>on_thyroxine</th>\n",
              "      <th>query_on_thyroxine</th>\n",
              "      <th>on_antithyroid_medication</th>\n",
              "      <th>thyroid_surgery</th>\n",
              "      <th>query_hypothyroid</th>\n",
              "      <th>query_hyperthyroid</th>\n",
              "      <th>pregnant</th>\n",
              "      <th>sick</th>\n",
              "      <th>tumor</th>\n",
              "      <th>lithium</th>\n",
              "      <th>goitre</th>\n",
              "      <th>TSH_measured</th>\n",
              "      <th>TSH</th>\n",
              "      <th>T3_measured</th>\n",
              "      <th>T3</th>\n",
              "      <th>TT4_measured</th>\n",
              "      <th>TT4</th>\n",
              "      <th>T4U_measured</th>\n",
              "      <th>T4U</th>\n",
              "      <th>FTI_measured</th>\n",
              "      <th>FTI</th>\n",
              "      <th>TBG_measured</th>\n",
              "      <th>TBG</th>\n",
              "    </tr>\n",
              "  </thead>\n",
              "  <tbody>\n",
              "    <tr>\n",
              "      <th>count</th>\n",
              "      <td>3163</td>\n",
              "      <td>3163</td>\n",
              "      <td>3163</td>\n",
              "      <td>3163</td>\n",
              "      <td>3163</td>\n",
              "      <td>3163</td>\n",
              "      <td>3163</td>\n",
              "      <td>3163</td>\n",
              "      <td>3163</td>\n",
              "      <td>3163</td>\n",
              "      <td>3163</td>\n",
              "      <td>3163</td>\n",
              "      <td>3163</td>\n",
              "      <td>3163</td>\n",
              "      <td>3163</td>\n",
              "      <td>3163</td>\n",
              "      <td>3163</td>\n",
              "      <td>3163</td>\n",
              "      <td>3163</td>\n",
              "      <td>3163</td>\n",
              "      <td>3163</td>\n",
              "      <td>3163</td>\n",
              "      <td>3163</td>\n",
              "      <td>3163</td>\n",
              "      <td>3163</td>\n",
              "      <td>3163</td>\n",
              "    </tr>\n",
              "    <tr>\n",
              "      <th>unique</th>\n",
              "      <td>2</td>\n",
              "      <td>93</td>\n",
              "      <td>3</td>\n",
              "      <td>2</td>\n",
              "      <td>2</td>\n",
              "      <td>2</td>\n",
              "      <td>2</td>\n",
              "      <td>2</td>\n",
              "      <td>2</td>\n",
              "      <td>2</td>\n",
              "      <td>2</td>\n",
              "      <td>2</td>\n",
              "      <td>2</td>\n",
              "      <td>2</td>\n",
              "      <td>2</td>\n",
              "      <td>240</td>\n",
              "      <td>2</td>\n",
              "      <td>70</td>\n",
              "      <td>2</td>\n",
              "      <td>269</td>\n",
              "      <td>2</td>\n",
              "      <td>159</td>\n",
              "      <td>2</td>\n",
              "      <td>281</td>\n",
              "      <td>2</td>\n",
              "      <td>53</td>\n",
              "    </tr>\n",
              "    <tr>\n",
              "      <th>top</th>\n",
              "      <td>negative</td>\n",
              "      <td>?</td>\n",
              "      <td>F</td>\n",
              "      <td>f</td>\n",
              "      <td>f</td>\n",
              "      <td>f</td>\n",
              "      <td>f</td>\n",
              "      <td>f</td>\n",
              "      <td>f</td>\n",
              "      <td>f</td>\n",
              "      <td>f</td>\n",
              "      <td>f</td>\n",
              "      <td>f</td>\n",
              "      <td>f</td>\n",
              "      <td>y</td>\n",
              "      <td>0</td>\n",
              "      <td>y</td>\n",
              "      <td>?</td>\n",
              "      <td>y</td>\n",
              "      <td>?</td>\n",
              "      <td>y</td>\n",
              "      <td>?</td>\n",
              "      <td>y</td>\n",
              "      <td>?</td>\n",
              "      <td>n</td>\n",
              "      <td>?</td>\n",
              "    </tr>\n",
              "    <tr>\n",
              "      <th>freq</th>\n",
              "      <td>3012</td>\n",
              "      <td>446</td>\n",
              "      <td>2182</td>\n",
              "      <td>2702</td>\n",
              "      <td>3108</td>\n",
              "      <td>3121</td>\n",
              "      <td>3059</td>\n",
              "      <td>2922</td>\n",
              "      <td>2920</td>\n",
              "      <td>3100</td>\n",
              "      <td>3064</td>\n",
              "      <td>3123</td>\n",
              "      <td>3161</td>\n",
              "      <td>3064</td>\n",
              "      <td>2695</td>\n",
              "      <td>894</td>\n",
              "      <td>2468</td>\n",
              "      <td>695</td>\n",
              "      <td>2914</td>\n",
              "      <td>249</td>\n",
              "      <td>2915</td>\n",
              "      <td>248</td>\n",
              "      <td>2916</td>\n",
              "      <td>247</td>\n",
              "      <td>2903</td>\n",
              "      <td>2903</td>\n",
              "    </tr>\n",
              "  </tbody>\n",
              "</table>\n",
              "</div>\n",
              "      <button class=\"colab-df-convert\" onclick=\"convertToInteractive('df-c3b68d5d-8c85-47bc-8bbf-0ae3684f384b')\"\n",
              "              title=\"Convert this dataframe to an interactive table.\"\n",
              "              style=\"display:none;\">\n",
              "        \n",
              "  <svg xmlns=\"http://www.w3.org/2000/svg\" height=\"24px\"viewBox=\"0 0 24 24\"\n",
              "       width=\"24px\">\n",
              "    <path d=\"M0 0h24v24H0V0z\" fill=\"none\"/>\n",
              "    <path d=\"M18.56 5.44l.94 2.06.94-2.06 2.06-.94-2.06-.94-.94-2.06-.94 2.06-2.06.94zm-11 1L8.5 8.5l.94-2.06 2.06-.94-2.06-.94L8.5 2.5l-.94 2.06-2.06.94zm10 10l.94 2.06.94-2.06 2.06-.94-2.06-.94-.94-2.06-.94 2.06-2.06.94z\"/><path d=\"M17.41 7.96l-1.37-1.37c-.4-.4-.92-.59-1.43-.59-.52 0-1.04.2-1.43.59L10.3 9.45l-7.72 7.72c-.78.78-.78 2.05 0 2.83L4 21.41c.39.39.9.59 1.41.59.51 0 1.02-.2 1.41-.59l7.78-7.78 2.81-2.81c.8-.78.8-2.07 0-2.86zM5.41 20L4 18.59l7.72-7.72 1.47 1.35L5.41 20z\"/>\n",
              "  </svg>\n",
              "      </button>\n",
              "      \n",
              "  <style>\n",
              "    .colab-df-container {\n",
              "      display:flex;\n",
              "      flex-wrap:wrap;\n",
              "      gap: 12px;\n",
              "    }\n",
              "\n",
              "    .colab-df-convert {\n",
              "      background-color: #E8F0FE;\n",
              "      border: none;\n",
              "      border-radius: 50%;\n",
              "      cursor: pointer;\n",
              "      display: none;\n",
              "      fill: #1967D2;\n",
              "      height: 32px;\n",
              "      padding: 0 0 0 0;\n",
              "      width: 32px;\n",
              "    }\n",
              "\n",
              "    .colab-df-convert:hover {\n",
              "      background-color: #E2EBFA;\n",
              "      box-shadow: 0px 1px 2px rgba(60, 64, 67, 0.3), 0px 1px 3px 1px rgba(60, 64, 67, 0.15);\n",
              "      fill: #174EA6;\n",
              "    }\n",
              "\n",
              "    [theme=dark] .colab-df-convert {\n",
              "      background-color: #3B4455;\n",
              "      fill: #D2E3FC;\n",
              "    }\n",
              "\n",
              "    [theme=dark] .colab-df-convert:hover {\n",
              "      background-color: #434B5C;\n",
              "      box-shadow: 0px 1px 3px 1px rgba(0, 0, 0, 0.15);\n",
              "      filter: drop-shadow(0px 1px 2px rgba(0, 0, 0, 0.3));\n",
              "      fill: #FFFFFF;\n",
              "    }\n",
              "  </style>\n",
              "\n",
              "      <script>\n",
              "        const buttonEl =\n",
              "          document.querySelector('#df-c3b68d5d-8c85-47bc-8bbf-0ae3684f384b button.colab-df-convert');\n",
              "        buttonEl.style.display =\n",
              "          google.colab.kernel.accessAllowed ? 'block' : 'none';\n",
              "\n",
              "        async function convertToInteractive(key) {\n",
              "          const element = document.querySelector('#df-c3b68d5d-8c85-47bc-8bbf-0ae3684f384b');\n",
              "          const dataTable =\n",
              "            await google.colab.kernel.invokeFunction('convertToInteractive',\n",
              "                                                     [key], {});\n",
              "          if (!dataTable) return;\n",
              "\n",
              "          const docLinkHtml = 'Like what you see? Visit the ' +\n",
              "            '<a target=\"_blank\" href=https://colab.research.google.com/notebooks/data_table.ipynb>data table notebook</a>'\n",
              "            + ' to learn more about interactive tables.';\n",
              "          element.innerHTML = '';\n",
              "          dataTable['output_type'] = 'display_data';\n",
              "          await google.colab.output.renderOutput(dataTable, element);\n",
              "          const docLink = document.createElement('div');\n",
              "          docLink.innerHTML = docLinkHtml;\n",
              "          element.appendChild(docLink);\n",
              "        }\n",
              "      </script>\n",
              "    </div>\n",
              "  </div>\n",
              "  "
            ],
            "text/plain": [
              "          status   age   sex on_thyroxine  ... FTI_measured   FTI TBG_measured   TBG\n",
              "count       3163  3163  3163         3163  ...         3163  3163         3163  3163\n",
              "unique         2    93     3            2  ...            2   281            2    53\n",
              "top     negative     ?     F            f  ...            y     ?            n     ?\n",
              "freq        3012   446  2182         2702  ...         2916   247         2903  2903\n",
              "\n",
              "[4 rows x 26 columns]"
            ]
          },
          "metadata": {},
          "execution_count": 7
        }
      ]
    },
    {
      "cell_type": "markdown",
      "source": [
        "The count ,unique and frequency are shown above."
      ],
      "metadata": {
        "id": "zJtUjqETl-D6"
      }
    },
    {
      "cell_type": "code",
      "source": [
        "#getting the number unique values in each column\n",
        "df.nunique()"
      ],
      "metadata": {
        "id": "m6V_iVNKVjNY",
        "colab": {
          "base_uri": "https://localhost:8080/"
        },
        "outputId": "b61e860f-f9e9-4452-8aa9-1f76da1c697c"
      },
      "execution_count": 8,
      "outputs": [
        {
          "output_type": "execute_result",
          "data": {
            "text/plain": [
              "status                         2\n",
              "age                           93\n",
              "sex                            3\n",
              "on_thyroxine                   2\n",
              "query_on_thyroxine             2\n",
              "on_antithyroid_medication      2\n",
              "thyroid_surgery                2\n",
              "query_hypothyroid              2\n",
              "query_hyperthyroid             2\n",
              "pregnant                       2\n",
              "sick                           2\n",
              "tumor                          2\n",
              "lithium                        2\n",
              "goitre                         2\n",
              "TSH_measured                   2\n",
              "TSH                          240\n",
              "T3_measured                    2\n",
              "T3                            70\n",
              "TT4_measured                   2\n",
              "TT4                          269\n",
              "T4U_measured                   2\n",
              "T4U                          159\n",
              "FTI_measured                   2\n",
              "FTI                          281\n",
              "TBG_measured                   2\n",
              "TBG                           53\n",
              "dtype: int64"
            ]
          },
          "metadata": {},
          "execution_count": 8
        }
      ]
    },
    {
      "cell_type": "markdown",
      "source": [
        "These are the number of unique values in each column."
      ],
      "metadata": {
        "id": "XMwnjdUxmGJx"
      }
    },
    {
      "cell_type": "code",
      "source": [
        "df.TBG"
      ],
      "metadata": {
        "colab": {
          "base_uri": "https://localhost:8080/"
        },
        "id": "uep20tel0cLu",
        "outputId": "2cd7bc8a-58e5-4384-efe2-3b1c4db0f636"
      },
      "execution_count": 9,
      "outputs": [
        {
          "output_type": "execute_result",
          "data": {
            "text/plain": [
              "0       ?\n",
              "1       ?\n",
              "2       ?\n",
              "3       ?\n",
              "4       ?\n",
              "       ..\n",
              "3158    ?\n",
              "3159    ?\n",
              "3160    ?\n",
              "3161    ?\n",
              "3162    ?\n",
              "Name: TBG, Length: 3163, dtype: object"
            ]
          },
          "metadata": {},
          "execution_count": 9
        }
      ]
    },
    {
      "cell_type": "code",
      "source": [
        "#checking for missing values\n",
        "df.isnull().sum().sum()"
      ],
      "metadata": {
        "id": "tu0S6Cw9zW16",
        "colab": {
          "base_uri": "https://localhost:8080/"
        },
        "outputId": "8f6e6fe8-0a84-4cca-c072-b0eddc7ba40c"
      },
      "execution_count": 10,
      "outputs": [
        {
          "output_type": "execute_result",
          "data": {
            "text/plain": [
              "0"
            ]
          },
          "metadata": {},
          "execution_count": 10
        }
      ]
    },
    {
      "cell_type": "markdown",
      "source": [
        "There are 0 missing values."
      ],
      "metadata": {
        "id": "IkO5oXM2mLC6"
      }
    },
    {
      "cell_type": "markdown",
      "source": [
        "## **4. Data Cleaning**"
      ],
      "metadata": {
        "id": "WLTT_GjwhKwA"
      }
    },
    {
      "cell_type": "markdown",
      "source": [
        "> This done by following the data integrity rules i.e Validity, Accuracy, Completeness, Consistency, Uniformity to ensure the data is ready for analysis"
      ],
      "metadata": {
        "id": "ZEuYeGuQhOBP"
      }
    },
    {
      "cell_type": "markdown",
      "source": [
        "### 4.1 Completeness"
      ],
      "metadata": {
        "id": "L4ykTkFrhT9a"
      }
    },
    {
      "cell_type": "code",
      "source": [
        "#checking for null values across each column\n",
        "df.isnull().sum()"
      ],
      "metadata": {
        "id": "_5MUmDeYtDdX",
        "colab": {
          "base_uri": "https://localhost:8080/"
        },
        "outputId": "aa40656e-2e59-4e21-aeba-68ceb7278a92"
      },
      "execution_count": 11,
      "outputs": [
        {
          "output_type": "execute_result",
          "data": {
            "text/plain": [
              "status                       0\n",
              "age                          0\n",
              "sex                          0\n",
              "on_thyroxine                 0\n",
              "query_on_thyroxine           0\n",
              "on_antithyroid_medication    0\n",
              "thyroid_surgery              0\n",
              "query_hypothyroid            0\n",
              "query_hyperthyroid           0\n",
              "pregnant                     0\n",
              "sick                         0\n",
              "tumor                        0\n",
              "lithium                      0\n",
              "goitre                       0\n",
              "TSH_measured                 0\n",
              "TSH                          0\n",
              "T3_measured                  0\n",
              "T3                           0\n",
              "TT4_measured                 0\n",
              "TT4                          0\n",
              "T4U_measured                 0\n",
              "T4U                          0\n",
              "FTI_measured                 0\n",
              "FTI                          0\n",
              "TBG_measured                 0\n",
              "TBG                          0\n",
              "dtype: int64"
            ]
          },
          "metadata": {},
          "execution_count": 11
        }
      ]
    },
    {
      "cell_type": "markdown",
      "source": [
        "the dataset has no null values."
      ],
      "metadata": {
        "id": "OlfDLkPhU1vg"
      }
    },
    {
      "cell_type": "code",
      "source": [
        "# Checking for missing values as a percentage\n",
        "# Sorting the missing values in a descending order\n",
        "#\n",
        "(df.isna().mean().round(4) * 100).sort_values(ascending = False)\n"
      ],
      "metadata": {
        "colab": {
          "base_uri": "https://localhost:8080/"
        },
        "id": "jozWL9sOJy4x",
        "outputId": "612844d1-ee66-42e9-b3be-203872e10a91"
      },
      "execution_count": 12,
      "outputs": [
        {
          "output_type": "execute_result",
          "data": {
            "text/plain": [
              "status                       0.0\n",
              "age                          0.0\n",
              "TBG_measured                 0.0\n",
              "FTI                          0.0\n",
              "FTI_measured                 0.0\n",
              "T4U                          0.0\n",
              "T4U_measured                 0.0\n",
              "TT4                          0.0\n",
              "TT4_measured                 0.0\n",
              "T3                           0.0\n",
              "T3_measured                  0.0\n",
              "TSH                          0.0\n",
              "TSH_measured                 0.0\n",
              "goitre                       0.0\n",
              "lithium                      0.0\n",
              "tumor                        0.0\n",
              "sick                         0.0\n",
              "pregnant                     0.0\n",
              "query_hyperthyroid           0.0\n",
              "query_hypothyroid            0.0\n",
              "thyroid_surgery              0.0\n",
              "on_antithyroid_medication    0.0\n",
              "query_on_thyroxine           0.0\n",
              "on_thyroxine                 0.0\n",
              "sex                          0.0\n",
              "TBG                          0.0\n",
              "dtype: float64"
            ]
          },
          "metadata": {},
          "execution_count": 12
        }
      ]
    },
    {
      "cell_type": "code",
      "source": [
        "#Checking for the percentage of the missing values\n",
        "df.isna().mean().round(4) * 100"
      ],
      "metadata": {
        "id": "Ufp8JOJF5ShV",
        "colab": {
          "base_uri": "https://localhost:8080/"
        },
        "outputId": "3739e3a2-41a0-414b-d192-c78d7d22511e"
      },
      "execution_count": 13,
      "outputs": [
        {
          "output_type": "execute_result",
          "data": {
            "text/plain": [
              "status                       0.0\n",
              "age                          0.0\n",
              "sex                          0.0\n",
              "on_thyroxine                 0.0\n",
              "query_on_thyroxine           0.0\n",
              "on_antithyroid_medication    0.0\n",
              "thyroid_surgery              0.0\n",
              "query_hypothyroid            0.0\n",
              "query_hyperthyroid           0.0\n",
              "pregnant                     0.0\n",
              "sick                         0.0\n",
              "tumor                        0.0\n",
              "lithium                      0.0\n",
              "goitre                       0.0\n",
              "TSH_measured                 0.0\n",
              "TSH                          0.0\n",
              "T3_measured                  0.0\n",
              "T3                           0.0\n",
              "TT4_measured                 0.0\n",
              "TT4                          0.0\n",
              "T4U_measured                 0.0\n",
              "T4U                          0.0\n",
              "FTI_measured                 0.0\n",
              "FTI                          0.0\n",
              "TBG_measured                 0.0\n",
              "TBG                          0.0\n",
              "dtype: float64"
            ]
          },
          "metadata": {},
          "execution_count": 13
        }
      ]
    },
    {
      "cell_type": "markdown",
      "source": [
        "### 4.2 Validity"
      ],
      "metadata": {
        "id": "QgFIuqz-hWj4"
      }
    },
    {
      "cell_type": "code",
      "source": [
        "#irrelevant Data\n",
        "#Drop columns we do not need.\n",
        "#\n",
        "\n",
        "df=df.drop(['TBG','TBG_measured'], axis = 1)"
      ],
      "metadata": {
        "id": "iimB1Jw7AJPP"
      },
      "execution_count": 14,
      "outputs": []
    },
    {
      "cell_type": "markdown",
      "source": [
        "The  columns are dropped because have a high value of missing data."
      ],
      "metadata": {
        "id": "D71R6jitAc1e"
      }
    },
    {
      "cell_type": "code",
      "source": [
        "# Replacing spaces in the column names with underscore\n",
        "df.columns= df.columns.str.replace(\" \", \"_\")"
      ],
      "metadata": {
        "id": "Odq7X94ugdc_"
      },
      "execution_count": 15,
      "outputs": []
    },
    {
      "cell_type": "markdown",
      "source": [
        "To make our columns look neater."
      ],
      "metadata": {
        "id": "nQYGYsgp5FKr"
      }
    },
    {
      "cell_type": "code",
      "source": [
        "# Changing column names to lower case\n",
        "df.columns= df.columns.str.lower()\n"
      ],
      "metadata": {
        "id": "k1iOvfkjh9eT"
      },
      "execution_count": 16,
      "outputs": []
    },
    {
      "cell_type": "code",
      "source": [
        "# Replacing the '?' in age with NAN\n",
        "#\n",
        "df.replace('?', np.nan, inplace=True)\n"
      ],
      "metadata": {
        "id": "GPBo5KZzx4mR"
      },
      "execution_count": 17,
      "outputs": []
    },
    {
      "cell_type": "markdown",
      "source": [
        "### 4.3 Consistency"
      ],
      "metadata": {
        "id": "I0TT-mg0hbYS"
      }
    },
    {
      "cell_type": "code",
      "source": [
        "#checking for duplicates\n",
        "df.duplicated().sum().sum()"
      ],
      "metadata": {
        "colab": {
          "base_uri": "https://localhost:8080/"
        },
        "id": "gN0iuQEBXFfk",
        "outputId": "38d37eeb-d44d-4469-9c2c-cffcf8f8f7b4"
      },
      "execution_count": 18,
      "outputs": [
        {
          "output_type": "execute_result",
          "data": {
            "text/plain": [
              "152"
            ]
          },
          "metadata": {},
          "execution_count": 18
        }
      ]
    },
    {
      "cell_type": "markdown",
      "source": [
        "There are 152 duplicates."
      ],
      "metadata": {
        "id": "DD5bTa9F2J9S"
      }
    },
    {
      "cell_type": "code",
      "source": [
        "##Dropping the duplicates\n",
        "df1=df.drop_duplicates(keep=False)"
      ],
      "metadata": {
        "id": "0jq0MMTGjCwT"
      },
      "execution_count": 19,
      "outputs": []
    },
    {
      "cell_type": "code",
      "source": [
        "df1.duplicated().sum()"
      ],
      "metadata": {
        "colab": {
          "base_uri": "https://localhost:8080/"
        },
        "id": "jdC3aSdRj82Z",
        "outputId": "2c3d3482-f912-46cb-d81f-fae6fdc5a0d2"
      },
      "execution_count": 20,
      "outputs": [
        {
          "output_type": "execute_result",
          "data": {
            "text/plain": [
              "0"
            ]
          },
          "metadata": {},
          "execution_count": 20
        }
      ]
    },
    {
      "cell_type": "markdown",
      "source": [
        "After dropping the duplicates there are 0 "
      ],
      "metadata": {
        "id": "K2b3bzfBkKXZ"
      }
    },
    {
      "cell_type": "markdown",
      "source": [
        "### 4.4 Uniformity"
      ],
      "metadata": {
        "id": "Uv8crjERhejA"
      }
    },
    {
      "cell_type": "code",
      "source": [
        "#no action was done"
      ],
      "metadata": {
        "id": "VybZz6B8WnAU"
      },
      "execution_count": 21,
      "outputs": []
    },
    {
      "cell_type": "markdown",
      "source": [
        "### 4.5 Accuracy"
      ],
      "metadata": {
        "id": "K_EZ6PPstczL"
      }
    },
    {
      "cell_type": "code",
      "source": [
        "#no action was done"
      ],
      "metadata": {
        "id": "b5bCLQQsjhfx"
      },
      "execution_count": 22,
      "outputs": []
    },
    {
      "cell_type": "markdown",
      "source": [
        "# Exporting our new Dataset"
      ],
      "metadata": {
        "id": "Iyq9D-F1pESh"
      }
    },
    {
      "cell_type": "code",
      "source": [
        "# Let's export our dataframe into a csv file as shown \n",
        "# we use the to_csv function to create a csv file and export it\n",
        "\n",
        "df1.to_csv('/content/hypothyroid.csv')\n",
        "df2 = pd.read_csv('/content/hypothyroid.csv', index_col=0)\n",
        "df2.head(5)"
      ],
      "metadata": {
        "colab": {
          "base_uri": "https://localhost:8080/",
          "height": 270
        },
        "id": "tzRQ_BBApIWO",
        "outputId": "1e23cab9-00a3-4984-9dcd-83f38cbd38d8"
      },
      "execution_count": 23,
      "outputs": [
        {
          "output_type": "execute_result",
          "data": {
            "text/html": [
              "\n",
              "  <div id=\"df-c78b6c62-4cc7-42f1-8591-8e6b3abf6545\">\n",
              "    <div class=\"colab-df-container\">\n",
              "      <div>\n",
              "<style scoped>\n",
              "    .dataframe tbody tr th:only-of-type {\n",
              "        vertical-align: middle;\n",
              "    }\n",
              "\n",
              "    .dataframe tbody tr th {\n",
              "        vertical-align: top;\n",
              "    }\n",
              "\n",
              "    .dataframe thead th {\n",
              "        text-align: right;\n",
              "    }\n",
              "</style>\n",
              "<table border=\"1\" class=\"dataframe\">\n",
              "  <thead>\n",
              "    <tr style=\"text-align: right;\">\n",
              "      <th></th>\n",
              "      <th>status</th>\n",
              "      <th>age</th>\n",
              "      <th>sex</th>\n",
              "      <th>on_thyroxine</th>\n",
              "      <th>query_on_thyroxine</th>\n",
              "      <th>on_antithyroid_medication</th>\n",
              "      <th>thyroid_surgery</th>\n",
              "      <th>query_hypothyroid</th>\n",
              "      <th>query_hyperthyroid</th>\n",
              "      <th>pregnant</th>\n",
              "      <th>sick</th>\n",
              "      <th>tumor</th>\n",
              "      <th>lithium</th>\n",
              "      <th>goitre</th>\n",
              "      <th>tsh_measured</th>\n",
              "      <th>tsh</th>\n",
              "      <th>t3_measured</th>\n",
              "      <th>t3</th>\n",
              "      <th>tt4_measured</th>\n",
              "      <th>tt4</th>\n",
              "      <th>t4u_measured</th>\n",
              "      <th>t4u</th>\n",
              "      <th>fti_measured</th>\n",
              "      <th>fti</th>\n",
              "    </tr>\n",
              "  </thead>\n",
              "  <tbody>\n",
              "    <tr>\n",
              "      <th>0</th>\n",
              "      <td>hypothyroid</td>\n",
              "      <td>72.0</td>\n",
              "      <td>M</td>\n",
              "      <td>f</td>\n",
              "      <td>f</td>\n",
              "      <td>f</td>\n",
              "      <td>f</td>\n",
              "      <td>f</td>\n",
              "      <td>f</td>\n",
              "      <td>f</td>\n",
              "      <td>f</td>\n",
              "      <td>f</td>\n",
              "      <td>f</td>\n",
              "      <td>f</td>\n",
              "      <td>y</td>\n",
              "      <td>30.0</td>\n",
              "      <td>y</td>\n",
              "      <td>0.6</td>\n",
              "      <td>y</td>\n",
              "      <td>15.0</td>\n",
              "      <td>y</td>\n",
              "      <td>1.48</td>\n",
              "      <td>y</td>\n",
              "      <td>10.0</td>\n",
              "    </tr>\n",
              "    <tr>\n",
              "      <th>1</th>\n",
              "      <td>hypothyroid</td>\n",
              "      <td>15.0</td>\n",
              "      <td>F</td>\n",
              "      <td>t</td>\n",
              "      <td>f</td>\n",
              "      <td>f</td>\n",
              "      <td>f</td>\n",
              "      <td>f</td>\n",
              "      <td>f</td>\n",
              "      <td>f</td>\n",
              "      <td>f</td>\n",
              "      <td>f</td>\n",
              "      <td>f</td>\n",
              "      <td>f</td>\n",
              "      <td>y</td>\n",
              "      <td>145.0</td>\n",
              "      <td>y</td>\n",
              "      <td>1.7</td>\n",
              "      <td>y</td>\n",
              "      <td>19.0</td>\n",
              "      <td>y</td>\n",
              "      <td>1.13</td>\n",
              "      <td>y</td>\n",
              "      <td>17.0</td>\n",
              "    </tr>\n",
              "    <tr>\n",
              "      <th>2</th>\n",
              "      <td>hypothyroid</td>\n",
              "      <td>24.0</td>\n",
              "      <td>M</td>\n",
              "      <td>f</td>\n",
              "      <td>f</td>\n",
              "      <td>f</td>\n",
              "      <td>f</td>\n",
              "      <td>f</td>\n",
              "      <td>f</td>\n",
              "      <td>f</td>\n",
              "      <td>f</td>\n",
              "      <td>f</td>\n",
              "      <td>f</td>\n",
              "      <td>f</td>\n",
              "      <td>y</td>\n",
              "      <td>0.0</td>\n",
              "      <td>y</td>\n",
              "      <td>0.2</td>\n",
              "      <td>y</td>\n",
              "      <td>4.0</td>\n",
              "      <td>y</td>\n",
              "      <td>1.00</td>\n",
              "      <td>y</td>\n",
              "      <td>0.0</td>\n",
              "    </tr>\n",
              "    <tr>\n",
              "      <th>3</th>\n",
              "      <td>hypothyroid</td>\n",
              "      <td>24.0</td>\n",
              "      <td>F</td>\n",
              "      <td>f</td>\n",
              "      <td>f</td>\n",
              "      <td>f</td>\n",
              "      <td>f</td>\n",
              "      <td>f</td>\n",
              "      <td>f</td>\n",
              "      <td>f</td>\n",
              "      <td>f</td>\n",
              "      <td>f</td>\n",
              "      <td>f</td>\n",
              "      <td>f</td>\n",
              "      <td>y</td>\n",
              "      <td>430.0</td>\n",
              "      <td>y</td>\n",
              "      <td>0.4</td>\n",
              "      <td>y</td>\n",
              "      <td>6.0</td>\n",
              "      <td>y</td>\n",
              "      <td>1.04</td>\n",
              "      <td>y</td>\n",
              "      <td>6.0</td>\n",
              "    </tr>\n",
              "    <tr>\n",
              "      <th>4</th>\n",
              "      <td>hypothyroid</td>\n",
              "      <td>77.0</td>\n",
              "      <td>M</td>\n",
              "      <td>f</td>\n",
              "      <td>f</td>\n",
              "      <td>f</td>\n",
              "      <td>f</td>\n",
              "      <td>f</td>\n",
              "      <td>f</td>\n",
              "      <td>f</td>\n",
              "      <td>f</td>\n",
              "      <td>f</td>\n",
              "      <td>f</td>\n",
              "      <td>f</td>\n",
              "      <td>y</td>\n",
              "      <td>7.3</td>\n",
              "      <td>y</td>\n",
              "      <td>1.2</td>\n",
              "      <td>y</td>\n",
              "      <td>57.0</td>\n",
              "      <td>y</td>\n",
              "      <td>1.28</td>\n",
              "      <td>y</td>\n",
              "      <td>44.0</td>\n",
              "    </tr>\n",
              "  </tbody>\n",
              "</table>\n",
              "</div>\n",
              "      <button class=\"colab-df-convert\" onclick=\"convertToInteractive('df-c78b6c62-4cc7-42f1-8591-8e6b3abf6545')\"\n",
              "              title=\"Convert this dataframe to an interactive table.\"\n",
              "              style=\"display:none;\">\n",
              "        \n",
              "  <svg xmlns=\"http://www.w3.org/2000/svg\" height=\"24px\"viewBox=\"0 0 24 24\"\n",
              "       width=\"24px\">\n",
              "    <path d=\"M0 0h24v24H0V0z\" fill=\"none\"/>\n",
              "    <path d=\"M18.56 5.44l.94 2.06.94-2.06 2.06-.94-2.06-.94-.94-2.06-.94 2.06-2.06.94zm-11 1L8.5 8.5l.94-2.06 2.06-.94-2.06-.94L8.5 2.5l-.94 2.06-2.06.94zm10 10l.94 2.06.94-2.06 2.06-.94-2.06-.94-.94-2.06-.94 2.06-2.06.94z\"/><path d=\"M17.41 7.96l-1.37-1.37c-.4-.4-.92-.59-1.43-.59-.52 0-1.04.2-1.43.59L10.3 9.45l-7.72 7.72c-.78.78-.78 2.05 0 2.83L4 21.41c.39.39.9.59 1.41.59.51 0 1.02-.2 1.41-.59l7.78-7.78 2.81-2.81c.8-.78.8-2.07 0-2.86zM5.41 20L4 18.59l7.72-7.72 1.47 1.35L5.41 20z\"/>\n",
              "  </svg>\n",
              "      </button>\n",
              "      \n",
              "  <style>\n",
              "    .colab-df-container {\n",
              "      display:flex;\n",
              "      flex-wrap:wrap;\n",
              "      gap: 12px;\n",
              "    }\n",
              "\n",
              "    .colab-df-convert {\n",
              "      background-color: #E8F0FE;\n",
              "      border: none;\n",
              "      border-radius: 50%;\n",
              "      cursor: pointer;\n",
              "      display: none;\n",
              "      fill: #1967D2;\n",
              "      height: 32px;\n",
              "      padding: 0 0 0 0;\n",
              "      width: 32px;\n",
              "    }\n",
              "\n",
              "    .colab-df-convert:hover {\n",
              "      background-color: #E2EBFA;\n",
              "      box-shadow: 0px 1px 2px rgba(60, 64, 67, 0.3), 0px 1px 3px 1px rgba(60, 64, 67, 0.15);\n",
              "      fill: #174EA6;\n",
              "    }\n",
              "\n",
              "    [theme=dark] .colab-df-convert {\n",
              "      background-color: #3B4455;\n",
              "      fill: #D2E3FC;\n",
              "    }\n",
              "\n",
              "    [theme=dark] .colab-df-convert:hover {\n",
              "      background-color: #434B5C;\n",
              "      box-shadow: 0px 1px 3px 1px rgba(0, 0, 0, 0.15);\n",
              "      filter: drop-shadow(0px 1px 2px rgba(0, 0, 0, 0.3));\n",
              "      fill: #FFFFFF;\n",
              "    }\n",
              "  </style>\n",
              "\n",
              "      <script>\n",
              "        const buttonEl =\n",
              "          document.querySelector('#df-c78b6c62-4cc7-42f1-8591-8e6b3abf6545 button.colab-df-convert');\n",
              "        buttonEl.style.display =\n",
              "          google.colab.kernel.accessAllowed ? 'block' : 'none';\n",
              "\n",
              "        async function convertToInteractive(key) {\n",
              "          const element = document.querySelector('#df-c78b6c62-4cc7-42f1-8591-8e6b3abf6545');\n",
              "          const dataTable =\n",
              "            await google.colab.kernel.invokeFunction('convertToInteractive',\n",
              "                                                     [key], {});\n",
              "          if (!dataTable) return;\n",
              "\n",
              "          const docLinkHtml = 'Like what you see? Visit the ' +\n",
              "            '<a target=\"_blank\" href=https://colab.research.google.com/notebooks/data_table.ipynb>data table notebook</a>'\n",
              "            + ' to learn more about interactive tables.';\n",
              "          element.innerHTML = '';\n",
              "          dataTable['output_type'] = 'display_data';\n",
              "          await google.colab.output.renderOutput(dataTable, element);\n",
              "          const docLink = document.createElement('div');\n",
              "          docLink.innerHTML = docLinkHtml;\n",
              "          element.appendChild(docLink);\n",
              "        }\n",
              "      </script>\n",
              "    </div>\n",
              "  </div>\n",
              "  "
            ],
            "text/plain": [
              "        status   age sex on_thyroxine  ... t4u_measured   t4u fti_measured   fti\n",
              "0  hypothyroid  72.0   M            f  ...            y  1.48            y  10.0\n",
              "1  hypothyroid  15.0   F            t  ...            y  1.13            y  17.0\n",
              "2  hypothyroid  24.0   M            f  ...            y  1.00            y   0.0\n",
              "3  hypothyroid  24.0   F            f  ...            y  1.04            y   6.0\n",
              "4  hypothyroid  77.0   M            f  ...            y  1.28            y  44.0\n",
              "\n",
              "[5 rows x 24 columns]"
            ]
          },
          "metadata": {},
          "execution_count": 23
        }
      ]
    },
    {
      "cell_type": "markdown",
      "source": [
        "## **5. Exploratory Data Analysis**"
      ],
      "metadata": {
        "id": "YSkeiYXChipQ"
      }
    },
    {
      "cell_type": "markdown",
      "source": [
        "### Univariate Analysis"
      ],
      "metadata": {
        "id": "xmR3piseh7UM"
      }
    },
    {
      "cell_type": "markdown",
      "source": [
        "#### Measures of central Tendacies"
      ],
      "metadata": {
        "id": "LHMWBa8JtPzT"
      }
    },
    {
      "cell_type": "code",
      "source": [
        "from numpy.ma.core import append\n",
        "numerical_columns=['age','tsh','t3','tt4','t4u','fti']\n",
        "for column in numerical_columns:\n",
        "  print('\\n')\n",
        "  print(column + ', Mean: '+ str(df2[column].mean()))\n",
        "  print(column + ', Mode:' + str(df2[column].mode()))\n",
        "  print(column + ', Median: ' + str(df2[column].median()))"
      ],
      "metadata": {
        "colab": {
          "base_uri": "https://localhost:8080/"
        },
        "id": "yZzZWFBg8sug",
        "outputId": "0d125916-d0a1-43ad-bc14-4038276a0cdb"
      },
      "execution_count": 24,
      "outputs": [
        {
          "output_type": "stream",
          "name": "stdout",
          "text": [
            "\n",
            "\n",
            "age, Mean: 51.47172859450727\n",
            "age, Mode:0    62.0\n",
            "dtype: float64\n",
            "age, Median: 54.0\n",
            "\n",
            "\n",
            "tsh, Mean: 5.6897818465134415\n",
            "tsh, Mode:0    0.0\n",
            "dtype: float64\n",
            "tsh, Median: 0.7\n",
            "\n",
            "\n",
            "t3, Mean: 1.9272610921501683\n",
            "t3, Mode:0    1.6\n",
            "1    1.8\n",
            "2    2.1\n",
            "dtype: float64\n",
            "t3, Median: 1.8\n",
            "\n",
            "\n",
            "tt4, Mean: 108.55683945284378\n",
            "tt4, Mode:0    98.0\n",
            "dtype: float64\n",
            "tt4, Median: 104.0\n",
            "\n",
            "\n",
            "t4u, Mean: 0.9768873695573947\n",
            "t4u, Mode:0    0.98\n",
            "dtype: float64\n",
            "t4u, Median: 0.96\n",
            "\n",
            "\n",
            "fti, Mean: 115.58485611510793\n",
            "fti, Mode:0    98.0\n",
            "dtype: float64\n",
            "fti, Median: 107.0\n"
          ]
        }
      ]
    },
    {
      "cell_type": "markdown",
      "source": [
        "#### Measures of dispersion"
      ],
      "metadata": {
        "id": "JVKP_qm8t6wm"
      }
    },
    {
      "cell_type": "code",
      "source": [
        "numerical_columns=['age','tsh','t3','tt4','t4u','fti']\n",
        "for column in numerical_columns:\n",
        "  print('\\n')\n",
        "  print(column + ', Standard deviation: ' + str(df2[column].std()))\n",
        "  print(column + ', Variance: ' + str(df2[column].var()))\n",
        "  print(column + ', Skewness: ' + str(df2[column].skew()))\n",
        "  print(column + ', Kurtosis: ' + str(df2[column].kurt()))\n",
        "  print(column + ', Quartiles: ' + str(df2[column].quantile([0.25,0.5,0.75])))"
      ],
      "metadata": {
        "colab": {
          "base_uri": "https://localhost:8080/"
        },
        "id": "PQb41EhQbAQ0",
        "outputId": "29ac94c0-e2dd-4851-b335-9002a8250650"
      },
      "execution_count": 25,
      "outputs": [
        {
          "output_type": "stream",
          "name": "stdout",
          "text": [
            "\n",
            "\n",
            "age, Standard deviation: 19.27421495212848\n",
            "age, Variance: 371.4953620208531\n",
            "age, Skewness: -0.2054503573417453\n",
            "age, Kurtosis: -0.9416093300192143\n",
            "age, Quartiles: 0.25    35.0\n",
            "0.50    54.0\n",
            "0.75    67.0\n",
            "Name: age, dtype: float64\n",
            "\n",
            "\n",
            "tsh, Standard deviation: 24.151829591040258\n",
            "tsh, Variance: 583.3108725946478\n",
            "tsh, Skewness: 10.361245930744651\n",
            "tsh, Kurtosis: 154.2844742382952\n",
            "tsh, Quartiles: 0.25    0.0\n",
            "0.50    0.7\n",
            "0.75    2.1\n",
            "Name: tsh, dtype: float64\n",
            "\n",
            "\n",
            "t3, Standard deviation: 0.9609096860577169\n",
            "t3, Variance: 0.92334742475954\n",
            "t3, Skewness: 2.2161095475796433\n",
            "t3, Kurtosis: 11.727928398443353\n",
            "t3, Quartiles: 0.25    1.4\n",
            "0.50    1.8\n",
            "0.75    2.3\n",
            "Name: t3, dtype: float64\n",
            "\n",
            "\n",
            "tt4, Standard deviation: 43.6654530254612\n",
            "tt4, Variance: 1906.6717879187584\n",
            "tt4, Skewness: 1.4168423539339625\n",
            "tt4, Kurtosis: 6.673466255768258\n",
            "tt4, Quartiles: 0.25     84.0\n",
            "0.50    104.0\n",
            "0.75    127.0\n",
            "Name: tt4, dtype: float64\n",
            "\n",
            "\n",
            "t4u, Standard deviation: 0.22496906094512437\n",
            "t4u, Variance: 0.05061107838253108\n",
            "t4u, Skewness: 0.9900453113157893\n",
            "t4u, Kurtosis: 3.4465495072337067\n",
            "t4u, Quartiles: 0.25    0.85\n",
            "0.50    0.96\n",
            "0.75    1.06\n",
            "Name: t4u, dtype: float64\n",
            "\n",
            "\n",
            "fti, Standard deviation: 60.050926128067275\n",
            "fti, Variance: 3606.1137288385926\n",
            "fti, Skewness: 5.324107716169399\n",
            "fti, Kurtosis: 49.86709047122274\n",
            "fti, Quartiles: 0.25     91.0\n",
            "0.50    107.0\n",
            "0.75    128.0\n",
            "Name: fti, dtype: float64\n"
          ]
        }
      ]
    },
    {
      "cell_type": "markdown",
      "source": [
        "#### Bar Graphs"
      ],
      "metadata": {
        "id": "cFUIrpk-gGdf"
      }
    },
    {
      "cell_type": "code",
      "source": [
        "#creating a bar graph of the years with the largest records\n",
        "#\n",
        "plt.figure(figsize = (7,7), dpi = 100)\n",
        "df2.status.value_counts().head()\n",
        "df2.status.value_counts().head().plot(kind= 'barh',color='blue')\n",
        "plt.title('A status with those with and without hypothyroid')\n",
        "plt.xlabel('Value Counts')\n",
        "plt.ylabel('status')\n",
        "plt.show()"
      ],
      "metadata": {
        "colab": {
          "base_uri": "https://localhost:8080/",
          "height": 631
        },
        "id": "RD8Im5yjwBXz",
        "outputId": "c45891c7-f0bd-4422-d8e1-976e521550b6"
      },
      "execution_count": 26,
      "outputs": [
        {
          "output_type": "display_data",
          "data": {
            "image/png": "[encoded data removed]",
            "text/plain": [
              "<Figure size 700x700 with 1 Axes>"
            ]
          },
          "metadata": {
            "needs_background": "light"
          }
        }
      ]
    },
    {
      "cell_type": "code",
      "source": [
        "\n",
        "#creating a bar graph of the years with the largest records\n",
        "#\n",
        "sns.countplot(df2['sex'])\n",
        "plt.title('Gender of those with and without hypothyroid',fontsize=15)\n",
        "plt.xlabel(\"gender\",fontsize=15)\n",
        "plt.ylabel(\"Value counts\",fontsize=15)\n",
        "plt.show()"
      ],
      "metadata": {
        "colab": {
          "base_uri": "https://localhost:8080/",
          "height": 357
        },
        "id": "pj8b7OeKDp_0",
        "outputId": "2e79e768-eb02-4226-ce23-0b2195521e07"
      },
      "execution_count": 27,
      "outputs": [
        {
          "output_type": "stream",
          "name": "stderr",
          "text": [
            "/usr/local/lib/python3.7/dist-packages/seaborn/_decorators.py:43: FutureWarning: Pass the following variable as a keyword arg: x. From version 0.12, the only valid positional argument will be `data`, and passing other arguments without an explicit keyword will result in an error or misinterpretation.\n",
            "  FutureWarning\n"
          ]
        },
        {
          "output_type": "display_data",
          "data": {
            "image/png": "[encoded data removed]",
            "text/plain": [
              "<Figure size 432x288 with 1 Axes>"
            ]
          },
          "metadata": {
            "needs_background": "light"
          }
        }
      ]
    },
    {
      "cell_type": "markdown",
      "source": [
        "the above data was taken from more females than males."
      ],
      "metadata": {
        "id": "NmoSKOghzJWL"
      }
    },
    {
      "cell_type": "markdown",
      "source": [
        "### Bivariate Analysis"
      ],
      "metadata": {
        "id": "S3plV_Ijh93H"
      }
    },
    {
      "cell_type": "markdown",
      "source": [
        "#### Heat Map"
      ],
      "metadata": {
        "id": "MRc3zgAGqXVk"
      }
    },
    {
      "cell_type": "code",
      "source": [
        "#this is a summary analysis of the correlation coefficients in the datasets\n",
        "\n",
        "corr = df2.corr()\n",
        "\n",
        "corr.style.background_gradient(cmap='coolwarm')"
      ],
      "metadata": {
        "colab": {
          "base_uri": "https://localhost:8080/",
          "height": 237
        },
        "id": "XZCOIKcZzKQT",
        "outputId": "41d56ae4-7a3b-421c-b382-84ddb590d328"
      },
      "execution_count": 28,
      "outputs": [
        {
          "output_type": "execute_result",
          "data": {
            "text/html": [
              "<style type=\"text/css\">\n",
              "#T_9bc1b_row0_col0, #T_9bc1b_row1_col1, #T_9bc1b_row2_col2, #T_9bc1b_row3_col3, #T_9bc1b_row4_col4, #T_9bc1b_row5_col5 {\n",
              "  background-color: #b40426;\n",
              "  color: #f1f1f1;\n",
              "}\n",
              "#T_9bc1b_row0_col1 {\n",
              "  background-color: #88abfd;\n",
              "  color: #000000;\n",
              "}\n",
              "#T_9bc1b_row0_col2, #T_9bc1b_row1_col3, #T_9bc1b_row2_col0, #T_9bc1b_row3_col1, #T_9bc1b_row4_col5, #T_9bc1b_row5_col4 {\n",
              "  background-color: #3b4cc0;\n",
              "  color: #f1f1f1;\n",
              "}\n",
              "#T_9bc1b_row0_col3 {\n",
              "  background-color: #7295f4;\n",
              "  color: #f1f1f1;\n",
              "}\n",
              "#T_9bc1b_row0_col4 {\n",
              "  background-color: #506bda;\n",
              "  color: #f1f1f1;\n",
              "}\n",
              "#T_9bc1b_row0_col5 {\n",
              "  background-color: #92b4fe;\n",
              "  color: #000000;\n",
              "}\n",
              "#T_9bc1b_row1_col0 {\n",
              "  background-color: #89acfd;\n",
              "  color: #000000;\n",
              "}\n",
              "#T_9bc1b_row1_col2 {\n",
              "  background-color: #5d7ce6;\n",
              "  color: #f1f1f1;\n",
              "}\n",
              "#T_9bc1b_row1_col4 {\n",
              "  background-color: #9dbdff;\n",
              "  color: #000000;\n",
              "}\n",
              "#T_9bc1b_row1_col5 {\n",
              "  background-color: #455cce;\n",
              "  color: #f1f1f1;\n",
              "}\n",
              "#T_9bc1b_row2_col1 {\n",
              "  background-color: #5b7ae5;\n",
              "  color: #f1f1f1;\n",
              "}\n",
              "#T_9bc1b_row2_col3 {\n",
              "  background-color: #f7b497;\n",
              "  color: #000000;\n",
              "}\n",
              "#T_9bc1b_row2_col4 {\n",
              "  background-color: #e8d6cc;\n",
              "  color: #000000;\n",
              "}\n",
              "#T_9bc1b_row2_col5 {\n",
              "  background-color: #d3dbe7;\n",
              "  color: #000000;\n",
              "}\n",
              "#T_9bc1b_row3_col0 {\n",
              "  background-color: #7396f5;\n",
              "  color: #f1f1f1;\n",
              "}\n",
              "#T_9bc1b_row3_col2 {\n",
              "  background-color: #f7b396;\n",
              "  color: #000000;\n",
              "}\n",
              "#T_9bc1b_row3_col4 {\n",
              "  background-color: #d7dce3;\n",
              "  color: #000000;\n",
              "}\n",
              "#T_9bc1b_row3_col5, #T_9bc1b_row5_col3 {\n",
              "  background-color: #f49a7b;\n",
              "  color: #000000;\n",
              "}\n",
              "#T_9bc1b_row4_col0 {\n",
              "  background-color: #5572df;\n",
              "  color: #f1f1f1;\n",
              "}\n",
              "#T_9bc1b_row4_col1 {\n",
              "  background-color: #9fbfff;\n",
              "  color: #000000;\n",
              "}\n",
              "#T_9bc1b_row4_col2 {\n",
              "  background-color: #ead5c9;\n",
              "  color: #000000;\n",
              "}\n",
              "#T_9bc1b_row4_col3 {\n",
              "  background-color: #d8dce2;\n",
              "  color: #000000;\n",
              "}\n",
              "#T_9bc1b_row5_col0 {\n",
              "  background-color: #96b7ff;\n",
              "  color: #000000;\n",
              "}\n",
              "#T_9bc1b_row5_col1 {\n",
              "  background-color: #4961d2;\n",
              "  color: #f1f1f1;\n",
              "}\n",
              "#T_9bc1b_row5_col2 {\n",
              "  background-color: #d6dce4;\n",
              "  color: #000000;\n",
              "}\n",
              "</style>\n",
              "<table id=\"T_9bc1b_\" class=\"dataframe\">\n",
              "  <thead>\n",
              "    <tr>\n",
              "      <th class=\"blank level0\" >&nbsp;</th>\n",
              "      <th class=\"col_heading level0 col0\" >age</th>\n",
              "      <th class=\"col_heading level0 col1\" >tsh</th>\n",
              "      <th class=\"col_heading level0 col2\" >t3</th>\n",
              "      <th class=\"col_heading level0 col3\" >tt4</th>\n",
              "      <th class=\"col_heading level0 col4\" >t4u</th>\n",
              "      <th class=\"col_heading level0 col5\" >fti</th>\n",
              "    </tr>\n",
              "  </thead>\n",
              "  <tbody>\n",
              "    <tr>\n",
              "      <th id=\"T_9bc1b_level0_row0\" class=\"row_heading level0 row0\" >age</th>\n",
              "      <td id=\"T_9bc1b_row0_col0\" class=\"data row0 col0\" >1.000000</td>\n",
              "      <td id=\"T_9bc1b_row0_col1\" class=\"data row0 col1\" >-0.008926</td>\n",
              "      <td id=\"T_9bc1b_row0_col2\" class=\"data row0 col2\" >-0.328428</td>\n",
              "      <td id=\"T_9bc1b_row0_col3\" class=\"data row0 col3\" >-0.092301</td>\n",
              "      <td id=\"T_9bc1b_row0_col4\" class=\"data row0 col4\" >-0.213453</td>\n",
              "      <td id=\"T_9bc1b_row0_col5\" class=\"data row0 col5\" >0.036160</td>\n",
              "    </tr>\n",
              "    <tr>\n",
              "      <th id=\"T_9bc1b_level0_row1\" class=\"row_heading level0 row1\" >tsh</th>\n",
              "      <td id=\"T_9bc1b_row1_col0\" class=\"data row1 col0\" >-0.008926</td>\n",
              "      <td id=\"T_9bc1b_row1_col1\" class=\"data row1 col1\" >1.000000</td>\n",
              "      <td id=\"T_9bc1b_row1_col2\" class=\"data row1 col2\" >-0.181573</td>\n",
              "      <td id=\"T_9bc1b_row1_col3\" class=\"data row1 col3\" >-0.321621</td>\n",
              "      <td id=\"T_9bc1b_row1_col4\" class=\"data row1 col4\" >0.078722</td>\n",
              "      <td id=\"T_9bc1b_row1_col5\" class=\"data row1 col5\" >-0.256957</td>\n",
              "    </tr>\n",
              "    <tr>\n",
              "      <th id=\"T_9bc1b_level0_row2\" class=\"row_heading level0 row2\" >t3</th>\n",
              "      <td id=\"T_9bc1b_row2_col0\" class=\"data row2 col0\" >-0.328428</td>\n",
              "      <td id=\"T_9bc1b_row2_col1\" class=\"data row2 col1\" >-0.181573</td>\n",
              "      <td id=\"T_9bc1b_row2_col2\" class=\"data row2 col2\" >1.000000</td>\n",
              "      <td id=\"T_9bc1b_row2_col3\" class=\"data row2 col3\" >0.576667</td>\n",
              "      <td id=\"T_9bc1b_row2_col4\" class=\"data row2 col4\" >0.407892</td>\n",
              "      <td id=\"T_9bc1b_row2_col5\" class=\"data row2 col5\" >0.300399</td>\n",
              "    </tr>\n",
              "    <tr>\n",
              "      <th id=\"T_9bc1b_level0_row3\" class=\"row_heading level0 row3\" >tt4</th>\n",
              "      <td id=\"T_9bc1b_row3_col0\" class=\"data row3 col0\" >-0.092301</td>\n",
              "      <td id=\"T_9bc1b_row3_col1\" class=\"data row3 col1\" >-0.321621</td>\n",
              "      <td id=\"T_9bc1b_row3_col2\" class=\"data row3 col2\" >0.576667</td>\n",
              "      <td id=\"T_9bc1b_row3_col3\" class=\"data row3 col3\" >1.000000</td>\n",
              "      <td id=\"T_9bc1b_row3_col4\" class=\"data row3 col4\" >0.317882</td>\n",
              "      <td id=\"T_9bc1b_row3_col5\" class=\"data row3 col5\" >0.669467</td>\n",
              "    </tr>\n",
              "    <tr>\n",
              "      <th id=\"T_9bc1b_level0_row4\" class=\"row_heading level0 row4\" >t4u</th>\n",
              "      <td id=\"T_9bc1b_row4_col0\" class=\"data row4 col0\" >-0.213453</td>\n",
              "      <td id=\"T_9bc1b_row4_col1\" class=\"data row4 col1\" >0.078722</td>\n",
              "      <td id=\"T_9bc1b_row4_col2\" class=\"data row4 col2\" >0.407892</td>\n",
              "      <td id=\"T_9bc1b_row4_col3\" class=\"data row4 col3\" >0.317882</td>\n",
              "      <td id=\"T_9bc1b_row4_col4\" class=\"data row4 col4\" >1.000000</td>\n",
              "      <td id=\"T_9bc1b_row4_col5\" class=\"data row4 col5\" >-0.306321</td>\n",
              "    </tr>\n",
              "    <tr>\n",
              "      <th id=\"T_9bc1b_level0_row5\" class=\"row_heading level0 row5\" >fti</th>\n",
              "      <td id=\"T_9bc1b_row5_col0\" class=\"data row5 col0\" >0.036160</td>\n",
              "      <td id=\"T_9bc1b_row5_col1\" class=\"data row5 col1\" >-0.256957</td>\n",
              "      <td id=\"T_9bc1b_row5_col2\" class=\"data row5 col2\" >0.300399</td>\n",
              "      <td id=\"T_9bc1b_row5_col3\" class=\"data row5 col3\" >0.669467</td>\n",
              "      <td id=\"T_9bc1b_row5_col4\" class=\"data row5 col4\" >-0.306321</td>\n",
              "      <td id=\"T_9bc1b_row5_col5\" class=\"data row5 col5\" >1.000000</td>\n",
              "    </tr>\n",
              "  </tbody>\n",
              "</table>\n"
            ],
            "text/plain": [
              "<pandas.io.formats.style.Styler at 0x7f3a60e5ad10>"
            ]
          },
          "metadata": {},
          "execution_count": 28
        }
      ]
    },
    {
      "cell_type": "markdown",
      "source": [
        "1. t3 and tt4\n",
        "\n",
        "correlation coefficient = 0.576667, which is means there is a strong positive relationship between the two variables.\n",
        "\n",
        "2. tt4 and fti\n",
        "\n",
        "correlation coefficient = 0.669467, which is closer to 1 indicating a positive relationship between the two variables\n",
        "\n",
        "3. age vs tsh,t3,tt4,t4u \n",
        "\n",
        "there is a small negative relationship or no relationship between the variables. \n",
        "\n"
      ],
      "metadata": {
        "id": "M6bmvlsTRi3-"
      }
    },
    {
      "cell_type": "markdown",
      "source": [
        "### Multivariate Analysis"
      ],
      "metadata": {
        "id": "7siWaqBZiA3g"
      }
    },
    {
      "cell_type": "markdown",
      "source": [
        "Label Encoding"
      ],
      "metadata": {
        "id": "RJx-KSVh9iZM"
      }
    },
    {
      "cell_type": "code",
      "source": [
        "#this label encoding will be needed for correlation and multivariate analysis\n",
        "from sklearn.preprocessing import LabelEncoder\n",
        "#encoding the object columns\n",
        "columns =['status', 'sex', 'on_thyroxine', 'query_on_thyroxine',\n",
        "       'on_antithyroid_medication', 'thyroid_surgery', 'query_hypothyroid',\n",
        "       'query_hyperthyroid', 'pregnant', 'sick', 'tumor', 'lithium', 'goitre',\n",
        "       'tsh_measured', 't3_measured', 'tt4_measured',\n",
        "       't4u_measured', 'fti_measured']\n",
        "#\n",
        "# we convert the categorical variables \n",
        "#\n",
        "hypothyroid= df2.apply(LabelEncoder().fit_transform)\n",
        "#\n",
        "# Print head\n",
        "#\n",
        "hypothyroid.head()"
      ],
      "metadata": {
        "colab": {
          "base_uri": "https://localhost:8080/",
          "height": 270
        },
        "id": "pi4Q5TgY9lZb",
        "outputId": "f51ea8df-0dd4-4ac6-a119-1cf734bea9e9"
      },
      "execution_count": 29,
      "outputs": [
        {
          "output_type": "execute_result",
          "data": {
            "text/html": [
              "\n",
              "  <div id=\"df-aed84fd8-67a9-4013-8eb7-1a22245f5e5a\">\n",
              "    <div class=\"colab-df-container\">\n",
              "      <div>\n",
              "<style scoped>\n",
              "    .dataframe tbody tr th:only-of-type {\n",
              "        vertical-align: middle;\n",
              "    }\n",
              "\n",
              "    .dataframe tbody tr th {\n",
              "        vertical-align: top;\n",
              "    }\n",
              "\n",
              "    .dataframe thead th {\n",
              "        text-align: right;\n",
              "    }\n",
              "</style>\n",
              "<table border=\"1\" class=\"dataframe\">\n",
              "  <thead>\n",
              "    <tr style=\"text-align: right;\">\n",
              "      <th></th>\n",
              "      <th>status</th>\n",
              "      <th>age</th>\n",
              "      <th>sex</th>\n",
              "      <th>on_thyroxine</th>\n",
              "      <th>query_on_thyroxine</th>\n",
              "      <th>on_antithyroid_medication</th>\n",
              "      <th>thyroid_surgery</th>\n",
              "      <th>query_hypothyroid</th>\n",
              "      <th>query_hyperthyroid</th>\n",
              "      <th>pregnant</th>\n",
              "      <th>sick</th>\n",
              "      <th>tumor</th>\n",
              "      <th>lithium</th>\n",
              "      <th>goitre</th>\n",
              "      <th>tsh_measured</th>\n",
              "      <th>tsh</th>\n",
              "      <th>t3_measured</th>\n",
              "      <th>t3</th>\n",
              "      <th>tt4_measured</th>\n",
              "      <th>tt4</th>\n",
              "      <th>t4u_measured</th>\n",
              "      <th>t4u</th>\n",
              "      <th>fti_measured</th>\n",
              "      <th>fti</th>\n",
              "    </tr>\n",
              "  </thead>\n",
              "  <tbody>\n",
              "    <tr>\n",
              "      <th>0</th>\n",
              "      <td>0</td>\n",
              "      <td>69</td>\n",
              "      <td>1</td>\n",
              "      <td>0</td>\n",
              "      <td>0</td>\n",
              "      <td>0</td>\n",
              "      <td>0</td>\n",
              "      <td>0</td>\n",
              "      <td>0</td>\n",
              "      <td>0</td>\n",
              "      <td>0</td>\n",
              "      <td>0</td>\n",
              "      <td>0</td>\n",
              "      <td>0</td>\n",
              "      <td>1</td>\n",
              "      <td>162</td>\n",
              "      <td>1</td>\n",
              "      <td>7</td>\n",
              "      <td>1</td>\n",
              "      <td>22</td>\n",
              "      <td>1</td>\n",
              "      <td>115</td>\n",
              "      <td>1</td>\n",
              "      <td>19</td>\n",
              "    </tr>\n",
              "    <tr>\n",
              "      <th>1</th>\n",
              "      <td>0</td>\n",
              "      <td>12</td>\n",
              "      <td>0</td>\n",
              "      <td>1</td>\n",
              "      <td>0</td>\n",
              "      <td>0</td>\n",
              "      <td>0</td>\n",
              "      <td>0</td>\n",
              "      <td>0</td>\n",
              "      <td>0</td>\n",
              "      <td>0</td>\n",
              "      <td>0</td>\n",
              "      <td>0</td>\n",
              "      <td>0</td>\n",
              "      <td>1</td>\n",
              "      <td>217</td>\n",
              "      <td>1</td>\n",
              "      <td>18</td>\n",
              "      <td>1</td>\n",
              "      <td>26</td>\n",
              "      <td>1</td>\n",
              "      <td>80</td>\n",
              "      <td>1</td>\n",
              "      <td>26</td>\n",
              "    </tr>\n",
              "    <tr>\n",
              "      <th>2</th>\n",
              "      <td>0</td>\n",
              "      <td>21</td>\n",
              "      <td>1</td>\n",
              "      <td>0</td>\n",
              "      <td>0</td>\n",
              "      <td>0</td>\n",
              "      <td>0</td>\n",
              "      <td>0</td>\n",
              "      <td>0</td>\n",
              "      <td>0</td>\n",
              "      <td>0</td>\n",
              "      <td>0</td>\n",
              "      <td>0</td>\n",
              "      <td>0</td>\n",
              "      <td>1</td>\n",
              "      <td>0</td>\n",
              "      <td>1</td>\n",
              "      <td>3</td>\n",
              "      <td>1</td>\n",
              "      <td>5</td>\n",
              "      <td>1</td>\n",
              "      <td>67</td>\n",
              "      <td>1</td>\n",
              "      <td>0</td>\n",
              "    </tr>\n",
              "    <tr>\n",
              "      <th>3</th>\n",
              "      <td>0</td>\n",
              "      <td>21</td>\n",
              "      <td>0</td>\n",
              "      <td>0</td>\n",
              "      <td>0</td>\n",
              "      <td>0</td>\n",
              "      <td>0</td>\n",
              "      <td>0</td>\n",
              "      <td>0</td>\n",
              "      <td>0</td>\n",
              "      <td>0</td>\n",
              "      <td>0</td>\n",
              "      <td>0</td>\n",
              "      <td>0</td>\n",
              "      <td>1</td>\n",
              "      <td>233</td>\n",
              "      <td>1</td>\n",
              "      <td>5</td>\n",
              "      <td>1</td>\n",
              "      <td>8</td>\n",
              "      <td>1</td>\n",
              "      <td>71</td>\n",
              "      <td>1</td>\n",
              "      <td>9</td>\n",
              "    </tr>\n",
              "    <tr>\n",
              "      <th>4</th>\n",
              "      <td>0</td>\n",
              "      <td>74</td>\n",
              "      <td>1</td>\n",
              "      <td>0</td>\n",
              "      <td>0</td>\n",
              "      <td>0</td>\n",
              "      <td>0</td>\n",
              "      <td>0</td>\n",
              "      <td>0</td>\n",
              "      <td>0</td>\n",
              "      <td>0</td>\n",
              "      <td>0</td>\n",
              "      <td>0</td>\n",
              "      <td>0</td>\n",
              "      <td>1</td>\n",
              "      <td>106</td>\n",
              "      <td>1</td>\n",
              "      <td>13</td>\n",
              "      <td>1</td>\n",
              "      <td>62</td>\n",
              "      <td>1</td>\n",
              "      <td>95</td>\n",
              "      <td>1</td>\n",
              "      <td>47</td>\n",
              "    </tr>\n",
              "  </tbody>\n",
              "</table>\n",
              "</div>\n",
              "      <button class=\"colab-df-convert\" onclick=\"convertToInteractive('df-aed84fd8-67a9-4013-8eb7-1a22245f5e5a')\"\n",
              "              title=\"Convert this dataframe to an interactive table.\"\n",
              "              style=\"display:none;\">\n",
              "        \n",
              "  <svg xmlns=\"http://www.w3.org/2000/svg\" height=\"24px\"viewBox=\"0 0 24 24\"\n",
              "       width=\"24px\">\n",
              "    <path d=\"M0 0h24v24H0V0z\" fill=\"none\"/>\n",
              "    <path d=\"M18.56 5.44l.94 2.06.94-2.06 2.06-.94-2.06-.94-.94-2.06-.94 2.06-2.06.94zm-11 1L8.5 8.5l.94-2.06 2.06-.94-2.06-.94L8.5 2.5l-.94 2.06-2.06.94zm10 10l.94 2.06.94-2.06 2.06-.94-2.06-.94-.94-2.06-.94 2.06-2.06.94z\"/><path d=\"M17.41 7.96l-1.37-1.37c-.4-.4-.92-.59-1.43-.59-.52 0-1.04.2-1.43.59L10.3 9.45l-7.72 7.72c-.78.78-.78 2.05 0 2.83L4 21.41c.39.39.9.59 1.41.59.51 0 1.02-.2 1.41-.59l7.78-7.78 2.81-2.81c.8-.78.8-2.07 0-2.86zM5.41 20L4 18.59l7.72-7.72 1.47 1.35L5.41 20z\"/>\n",
              "  </svg>\n",
              "      </button>\n",
              "      \n",
              "  <style>\n",
              "    .colab-df-container {\n",
              "      display:flex;\n",
              "      flex-wrap:wrap;\n",
              "      gap: 12px;\n",
              "    }\n",
              "\n",
              "    .colab-df-convert {\n",
              "      background-color: #E8F0FE;\n",
              "      border: none;\n",
              "      border-radius: 50%;\n",
              "      cursor: pointer;\n",
              "      display: none;\n",
              "      fill: #1967D2;\n",
              "      height: 32px;\n",
              "      padding: 0 0 0 0;\n",
              "      width: 32px;\n",
              "    }\n",
              "\n",
              "    .colab-df-convert:hover {\n",
              "      background-color: #E2EBFA;\n",
              "      box-shadow: 0px 1px 2px rgba(60, 64, 67, 0.3), 0px 1px 3px 1px rgba(60, 64, 67, 0.15);\n",
              "      fill: #174EA6;\n",
              "    }\n",
              "\n",
              "    [theme=dark] .colab-df-convert {\n",
              "      background-color: #3B4455;\n",
              "      fill: #D2E3FC;\n",
              "    }\n",
              "\n",
              "    [theme=dark] .colab-df-convert:hover {\n",
              "      background-color: #434B5C;\n",
              "      box-shadow: 0px 1px 3px 1px rgba(0, 0, 0, 0.15);\n",
              "      filter: drop-shadow(0px 1px 2px rgba(0, 0, 0, 0.3));\n",
              "      fill: #FFFFFF;\n",
              "    }\n",
              "  </style>\n",
              "\n",
              "      <script>\n",
              "        const buttonEl =\n",
              "          document.querySelector('#df-aed84fd8-67a9-4013-8eb7-1a22245f5e5a button.colab-df-convert');\n",
              "        buttonEl.style.display =\n",
              "          google.colab.kernel.accessAllowed ? 'block' : 'none';\n",
              "\n",
              "        async function convertToInteractive(key) {\n",
              "          const element = document.querySelector('#df-aed84fd8-67a9-4013-8eb7-1a22245f5e5a');\n",
              "          const dataTable =\n",
              "            await google.colab.kernel.invokeFunction('convertToInteractive',\n",
              "                                                     [key], {});\n",
              "          if (!dataTable) return;\n",
              "\n",
              "          const docLinkHtml = 'Like what you see? Visit the ' +\n",
              "            '<a target=\"_blank\" href=https://colab.research.google.com/notebooks/data_table.ipynb>data table notebook</a>'\n",
              "            + ' to learn more about interactive tables.';\n",
              "          element.innerHTML = '';\n",
              "          dataTable['output_type'] = 'display_data';\n",
              "          await google.colab.output.renderOutput(dataTable, element);\n",
              "          const docLink = document.createElement('div');\n",
              "          docLink.innerHTML = docLinkHtml;\n",
              "          element.appendChild(docLink);\n",
              "        }\n",
              "      </script>\n",
              "    </div>\n",
              "  </div>\n",
              "  "
            ],
            "text/plain": [
              "   status  age  sex  on_thyroxine  ...  t4u_measured  t4u  fti_measured  fti\n",
              "0       0   69    1             0  ...             1  115             1   19\n",
              "1       0   12    0             1  ...             1   80             1   26\n",
              "2       0   21    1             0  ...             1   67             1    0\n",
              "3       0   21    0             0  ...             1   71             1    9\n",
              "4       0   74    1             0  ...             1   95             1   47\n",
              "\n",
              "[5 rows x 24 columns]"
            ]
          },
          "metadata": {},
          "execution_count": 29
        }
      ]
    },
    {
      "cell_type": "markdown",
      "source": [
        "#### Linear Discriminant Analysis (LDA)"
      ],
      "metadata": {
        "id": "XkRvR6QE0iMO"
      }
    },
    {
      "cell_type": "code",
      "source": [
        "# Divide the dataset into features and corresponding labels.\n",
        "X= hypothyroid.drop([\"status\"],1)\n",
        "y = hypothyroid[\"status\"]"
      ],
      "metadata": {
        "id": "jlzVxYBp0vxe",
        "colab": {
          "base_uri": "https://localhost:8080/"
        },
        "outputId": "9ff7fbe3-60f9-44eb-8f11-7064c57969cd"
      },
      "execution_count": 30,
      "outputs": [
        {
          "output_type": "stream",
          "name": "stderr",
          "text": [
            "/usr/local/lib/python3.7/dist-packages/ipykernel_launcher.py:2: FutureWarning: In a future version of pandas all arguments of DataFrame.drop except for the argument 'labels' will be keyword-only\n",
            "  \n"
          ]
        }
      ]
    },
    {
      "cell_type": "code",
      "source": [
        "#checking for unique values of the target variable\n",
        "y.unique()"
      ],
      "metadata": {
        "colab": {
          "base_uri": "https://localhost:8080/"
        },
        "id": "C0-Wp-2xvlhs",
        "outputId": "faa89902-3772-4035-b352-e9e57050c0bc"
      },
      "execution_count": 31,
      "outputs": [
        {
          "output_type": "execute_result",
          "data": {
            "text/plain": [
              "array([0, 1])"
            ]
          },
          "metadata": {},
          "execution_count": 31
        }
      ]
    },
    {
      "cell_type": "code",
      "source": [
        "#import Linear Discriminant Analysismethod from sklearn library\n",
        "from sklearn.model_selection import train_test_split\n",
        "from sklearn.discriminant_analysis import LinearDiscriminantAnalysis as LDA"
      ],
      "metadata": {
        "id": "QF5pX2rx06Ah"
      },
      "execution_count": 32,
      "outputs": []
    },
    {
      "cell_type": "code",
      "source": [
        "#create an instance of LDA and train the model\n",
        "lda= LDA()\n",
        "\n",
        "lda_= lda.fit(X, y)\n",
        "lda_feat = lda_. transform(X)\n",
        "\n",
        "#displaying the coefficients of the reducted columns\n",
        "lda.coef_"
      ],
      "metadata": {
        "colab": {
          "base_uri": "https://localhost:8080/"
        },
        "id": "zyGAo7rwwXqk",
        "outputId": "5cd53816-5846-4324-dc5f-5115096f98e2"
      },
      "execution_count": 33,
      "outputs": [
        {
          "output_type": "execute_result",
          "data": {
            "text/plain": [
              "array([[ 8.50389996e-03, -2.71496073e-02, -4.55384248e-01,\n",
              "         3.01280531e-01,  1.99255896e+00, -3.88752800e-01,\n",
              "         6.76761263e-01, -6.70786489e-01,  6.56901522e-01,\n",
              "         2.41848687e+00,  1.12562914e+00,  6.82665013e+00,\n",
              "        -9.11965337e-01, -1.79658982e+01, -8.43742995e-02,\n",
              "         2.90107148e+00,  6.31954123e-02,  1.16920037e+01,\n",
              "         8.81424027e-02, -5.70528684e+00, -1.05299036e-01,\n",
              "        -1.05490688e+01, -4.68729921e-02]])"
            ]
          },
          "metadata": {},
          "execution_count": 33
        }
      ]
    },
    {
      "cell_type": "code",
      "source": [
        "#coeeficients are in array thus we need a new dataframe to get the column names\n",
        "feature_importance = pd.DataFrame(index=X.columns.values, data=lda_.coef_[0].T)\n",
        "feature_importance.sort_values(0, ascending= False)"
      ],
      "metadata": {
        "colab": {
          "base_uri": "https://localhost:8080/",
          "height": 771
        },
        "id": "0v3zq2eB1J_V",
        "outputId": "6e701226-6b2e-4e9b-f1cc-e8178785d9fc"
      },
      "execution_count": 34,
      "outputs": [
        {
          "output_type": "execute_result",
          "data": {
            "text/html": [
              "\n",
              "  <div id=\"df-d4502c29-49e5-4f4f-b481-7bff78d28aab\">\n",
              "    <div class=\"colab-df-container\">\n",
              "      <div>\n",
              "<style scoped>\n",
              "    .dataframe tbody tr th:only-of-type {\n",
              "        vertical-align: middle;\n",
              "    }\n",
              "\n",
              "    .dataframe tbody tr th {\n",
              "        vertical-align: top;\n",
              "    }\n",
              "\n",
              "    .dataframe thead th {\n",
              "        text-align: right;\n",
              "    }\n",
              "</style>\n",
              "<table border=\"1\" class=\"dataframe\">\n",
              "  <thead>\n",
              "    <tr style=\"text-align: right;\">\n",
              "      <th></th>\n",
              "      <th>0</th>\n",
              "    </tr>\n",
              "  </thead>\n",
              "  <tbody>\n",
              "    <tr>\n",
              "      <th>tt4_measured</th>\n",
              "      <td>11.692004</td>\n",
              "    </tr>\n",
              "    <tr>\n",
              "      <th>lithium</th>\n",
              "      <td>6.826650</td>\n",
              "    </tr>\n",
              "    <tr>\n",
              "      <th>t3_measured</th>\n",
              "      <td>2.901071</td>\n",
              "    </tr>\n",
              "    <tr>\n",
              "      <th>sick</th>\n",
              "      <td>2.418487</td>\n",
              "    </tr>\n",
              "    <tr>\n",
              "      <th>on_antithyroid_medication</th>\n",
              "      <td>1.992559</td>\n",
              "    </tr>\n",
              "    <tr>\n",
              "      <th>tumor</th>\n",
              "      <td>1.125629</td>\n",
              "    </tr>\n",
              "    <tr>\n",
              "      <th>query_hypothyroid</th>\n",
              "      <td>0.676761</td>\n",
              "    </tr>\n",
              "    <tr>\n",
              "      <th>pregnant</th>\n",
              "      <td>0.656902</td>\n",
              "    </tr>\n",
              "    <tr>\n",
              "      <th>query_on_thyroxine</th>\n",
              "      <td>0.301281</td>\n",
              "    </tr>\n",
              "    <tr>\n",
              "      <th>tt4</th>\n",
              "      <td>0.088142</td>\n",
              "    </tr>\n",
              "    <tr>\n",
              "      <th>t3</th>\n",
              "      <td>0.063195</td>\n",
              "    </tr>\n",
              "    <tr>\n",
              "      <th>age</th>\n",
              "      <td>0.008504</td>\n",
              "    </tr>\n",
              "    <tr>\n",
              "      <th>sex</th>\n",
              "      <td>-0.027150</td>\n",
              "    </tr>\n",
              "    <tr>\n",
              "      <th>fti</th>\n",
              "      <td>-0.046873</td>\n",
              "    </tr>\n",
              "    <tr>\n",
              "      <th>tsh</th>\n",
              "      <td>-0.084374</td>\n",
              "    </tr>\n",
              "    <tr>\n",
              "      <th>t4u</th>\n",
              "      <td>-0.105299</td>\n",
              "    </tr>\n",
              "    <tr>\n",
              "      <th>thyroid_surgery</th>\n",
              "      <td>-0.388753</td>\n",
              "    </tr>\n",
              "    <tr>\n",
              "      <th>on_thyroxine</th>\n",
              "      <td>-0.455384</td>\n",
              "    </tr>\n",
              "    <tr>\n",
              "      <th>query_hyperthyroid</th>\n",
              "      <td>-0.670786</td>\n",
              "    </tr>\n",
              "    <tr>\n",
              "      <th>goitre</th>\n",
              "      <td>-0.911965</td>\n",
              "    </tr>\n",
              "    <tr>\n",
              "      <th>t4u_measured</th>\n",
              "      <td>-5.705287</td>\n",
              "    </tr>\n",
              "    <tr>\n",
              "      <th>fti_measured</th>\n",
              "      <td>-10.549069</td>\n",
              "    </tr>\n",
              "    <tr>\n",
              "      <th>tsh_measured</th>\n",
              "      <td>-17.965898</td>\n",
              "    </tr>\n",
              "  </tbody>\n",
              "</table>\n",
              "</div>\n",
              "      <button class=\"colab-df-convert\" onclick=\"convertToInteractive('df-d4502c29-49e5-4f4f-b481-7bff78d28aab')\"\n",
              "              title=\"Convert this dataframe to an interactive table.\"\n",
              "              style=\"display:none;\">\n",
              "        \n",
              "  <svg xmlns=\"http://www.w3.org/2000/svg\" height=\"24px\"viewBox=\"0 0 24 24\"\n",
              "       width=\"24px\">\n",
              "    <path d=\"M0 0h24v24H0V0z\" fill=\"none\"/>\n",
              "    <path d=\"M18.56 5.44l.94 2.06.94-2.06 2.06-.94-2.06-.94-.94-2.06-.94 2.06-2.06.94zm-11 1L8.5 8.5l.94-2.06 2.06-.94-2.06-.94L8.5 2.5l-.94 2.06-2.06.94zm10 10l.94 2.06.94-2.06 2.06-.94-2.06-.94-.94-2.06-.94 2.06-2.06.94z\"/><path d=\"M17.41 7.96l-1.37-1.37c-.4-.4-.92-.59-1.43-.59-.52 0-1.04.2-1.43.59L10.3 9.45l-7.72 7.72c-.78.78-.78 2.05 0 2.83L4 21.41c.39.39.9.59 1.41.59.51 0 1.02-.2 1.41-.59l7.78-7.78 2.81-2.81c.8-.78.8-2.07 0-2.86zM5.41 20L4 18.59l7.72-7.72 1.47 1.35L5.41 20z\"/>\n",
              "  </svg>\n",
              "      </button>\n",
              "      \n",
              "  <style>\n",
              "    .colab-df-container {\n",
              "      display:flex;\n",
              "      flex-wrap:wrap;\n",
              "      gap: 12px;\n",
              "    }\n",
              "\n",
              "    .colab-df-convert {\n",
              "      background-color: #E8F0FE;\n",
              "      border: none;\n",
              "      border-radius: 50%;\n",
              "      cursor: pointer;\n",
              "      display: none;\n",
              "      fill: #1967D2;\n",
              "      height: 32px;\n",
              "      padding: 0 0 0 0;\n",
              "      width: 32px;\n",
              "    }\n",
              "\n",
              "    .colab-df-convert:hover {\n",
              "      background-color: #E2EBFA;\n",
              "      box-shadow: 0px 1px 2px rgba(60, 64, 67, 0.3), 0px 1px 3px 1px rgba(60, 64, 67, 0.15);\n",
              "      fill: #174EA6;\n",
              "    }\n",
              "\n",
              "    [theme=dark] .colab-df-convert {\n",
              "      background-color: #3B4455;\n",
              "      fill: #D2E3FC;\n",
              "    }\n",
              "\n",
              "    [theme=dark] .colab-df-convert:hover {\n",
              "      background-color: #434B5C;\n",
              "      box-shadow: 0px 1px 3px 1px rgba(0, 0, 0, 0.15);\n",
              "      filter: drop-shadow(0px 1px 2px rgba(0, 0, 0, 0.3));\n",
              "      fill: #FFFFFF;\n",
              "    }\n",
              "  </style>\n",
              "\n",
              "      <script>\n",
              "        const buttonEl =\n",
              "          document.querySelector('#df-d4502c29-49e5-4f4f-b481-7bff78d28aab button.colab-df-convert');\n",
              "        buttonEl.style.display =\n",
              "          google.colab.kernel.accessAllowed ? 'block' : 'none';\n",
              "\n",
              "        async function convertToInteractive(key) {\n",
              "          const element = document.querySelector('#df-d4502c29-49e5-4f4f-b481-7bff78d28aab');\n",
              "          const dataTable =\n",
              "            await google.colab.kernel.invokeFunction('convertToInteractive',\n",
              "                                                     [key], {});\n",
              "          if (!dataTable) return;\n",
              "\n",
              "          const docLinkHtml = 'Like what you see? Visit the ' +\n",
              "            '<a target=\"_blank\" href=https://colab.research.google.com/notebooks/data_table.ipynb>data table notebook</a>'\n",
              "            + ' to learn more about interactive tables.';\n",
              "          element.innerHTML = '';\n",
              "          dataTable['output_type'] = 'display_data';\n",
              "          await google.colab.output.renderOutput(dataTable, element);\n",
              "          const docLink = document.createElement('div');\n",
              "          docLink.innerHTML = docLinkHtml;\n",
              "          element.appendChild(docLink);\n",
              "        }\n",
              "      </script>\n",
              "    </div>\n",
              "  </div>\n",
              "  "
            ],
            "text/plain": [
              "                                   0\n",
              "tt4_measured               11.692004\n",
              "lithium                     6.826650\n",
              "t3_measured                 2.901071\n",
              "sick                        2.418487\n",
              "on_antithyroid_medication   1.992559\n",
              "tumor                       1.125629\n",
              "query_hypothyroid           0.676761\n",
              "pregnant                    0.656902\n",
              "query_on_thyroxine          0.301281\n",
              "tt4                         0.088142\n",
              "t3                          0.063195\n",
              "age                         0.008504\n",
              "sex                        -0.027150\n",
              "fti                        -0.046873\n",
              "tsh                        -0.084374\n",
              "t4u                        -0.105299\n",
              "thyroid_surgery            -0.388753\n",
              "on_thyroxine               -0.455384\n",
              "query_hyperthyroid         -0.670786\n",
              "goitre                     -0.911965\n",
              "t4u_measured               -5.705287\n",
              "fti_measured              -10.549069\n",
              "tsh_measured              -17.965898"
            ]
          },
          "metadata": {},
          "execution_count": 34
        }
      ]
    },
    {
      "cell_type": "code",
      "source": [
        "# using the correlation coefficients o compute the VIF score for each variable we have:\n",
        "pd.DataFrame(np.linalg.inv(corr.values), index = corr.index, columns=corr.columns)"
      ],
      "metadata": {
        "colab": {
          "base_uri": "https://localhost:8080/",
          "height": 237
        },
        "id": "uCEoomK2Cszq",
        "outputId": "208f79a7-af91-48e0-8946-95be91114d25"
      },
      "execution_count": 35,
      "outputs": [
        {
          "output_type": "execute_result",
          "data": {
            "text/html": [
              "\n",
              "  <div id=\"df-fab06ed3-cc7e-483d-a884-2a18346f9de8\">\n",
              "    <div class=\"colab-df-container\">\n",
              "      <div>\n",
              "<style scoped>\n",
              "    .dataframe tbody tr th:only-of-type {\n",
              "        vertical-align: middle;\n",
              "    }\n",
              "\n",
              "    .dataframe tbody tr th {\n",
              "        vertical-align: top;\n",
              "    }\n",
              "\n",
              "    .dataframe thead th {\n",
              "        text-align: right;\n",
              "    }\n",
              "</style>\n",
              "<table border=\"1\" class=\"dataframe\">\n",
              "  <thead>\n",
              "    <tr style=\"text-align: right;\">\n",
              "      <th></th>\n",
              "      <th>age</th>\n",
              "      <th>tsh</th>\n",
              "      <th>t3</th>\n",
              "      <th>tt4</th>\n",
              "      <th>t4u</th>\n",
              "      <th>fti</th>\n",
              "    </tr>\n",
              "  </thead>\n",
              "  <tbody>\n",
              "    <tr>\n",
              "      <th>age</th>\n",
              "      <td>1.153222</td>\n",
              "      <td>0.026351</td>\n",
              "      <td>0.437361</td>\n",
              "      <td>-0.137834</td>\n",
              "      <td>0.095815</td>\n",
              "      <td>-0.044687</td>\n",
              "    </tr>\n",
              "    <tr>\n",
              "      <th>tsh</th>\n",
              "      <td>0.026351</td>\n",
              "      <td>1.191186</td>\n",
              "      <td>0.113134</td>\n",
              "      <td>0.673354</td>\n",
              "      <td>-0.445138</td>\n",
              "      <td>-0.315997</td>\n",
              "    </tr>\n",
              "    <tr>\n",
              "      <th>t3</th>\n",
              "      <td>0.437361</td>\n",
              "      <td>0.113134</td>\n",
              "      <td>1.831375</td>\n",
              "      <td>-0.570513</td>\n",
              "      <td>-0.583403</td>\n",
              "      <td>-0.333657</td>\n",
              "    </tr>\n",
              "    <tr>\n",
              "      <th>tt4</th>\n",
              "      <td>-0.137834</td>\n",
              "      <td>0.673354</td>\n",
              "      <td>-0.570513</td>\n",
              "      <td>4.601500</td>\n",
              "      <td>-2.371599</td>\n",
              "      <td>-3.457634</td>\n",
              "    </tr>\n",
              "    <tr>\n",
              "      <th>t4u</th>\n",
              "      <td>0.095815</td>\n",
              "      <td>-0.445138</td>\n",
              "      <td>-0.583403</td>\n",
              "      <td>-2.371599</td>\n",
              "      <td>2.815462</td>\n",
              "      <td>2.507550</td>\n",
              "    </tr>\n",
              "    <tr>\n",
              "      <th>fti</th>\n",
              "      <td>-0.044687</td>\n",
              "      <td>-0.315997</td>\n",
              "      <td>-0.333657</td>\n",
              "      <td>-3.457634</td>\n",
              "      <td>2.507550</td>\n",
              "      <td>4.103536</td>\n",
              "    </tr>\n",
              "  </tbody>\n",
              "</table>\n",
              "</div>\n",
              "      <button class=\"colab-df-convert\" onclick=\"convertToInteractive('df-fab06ed3-cc7e-483d-a884-2a18346f9de8')\"\n",
              "              title=\"Convert this dataframe to an interactive table.\"\n",
              "              style=\"display:none;\">\n",
              "        \n",
              "  <svg xmlns=\"http://www.w3.org/2000/svg\" height=\"24px\"viewBox=\"0 0 24 24\"\n",
              "       width=\"24px\">\n",
              "    <path d=\"M0 0h24v24H0V0z\" fill=\"none\"/>\n",
              "    <path d=\"M18.56 5.44l.94 2.06.94-2.06 2.06-.94-2.06-.94-.94-2.06-.94 2.06-2.06.94zm-11 1L8.5 8.5l.94-2.06 2.06-.94-2.06-.94L8.5 2.5l-.94 2.06-2.06.94zm10 10l.94 2.06.94-2.06 2.06-.94-2.06-.94-.94-2.06-.94 2.06-2.06.94z\"/><path d=\"M17.41 7.96l-1.37-1.37c-.4-.4-.92-.59-1.43-.59-.52 0-1.04.2-1.43.59L10.3 9.45l-7.72 7.72c-.78.78-.78 2.05 0 2.83L4 21.41c.39.39.9.59 1.41.59.51 0 1.02-.2 1.41-.59l7.78-7.78 2.81-2.81c.8-.78.8-2.07 0-2.86zM5.41 20L4 18.59l7.72-7.72 1.47 1.35L5.41 20z\"/>\n",
              "  </svg>\n",
              "      </button>\n",
              "      \n",
              "  <style>\n",
              "    .colab-df-container {\n",
              "      display:flex;\n",
              "      flex-wrap:wrap;\n",
              "      gap: 12px;\n",
              "    }\n",
              "\n",
              "    .colab-df-convert {\n",
              "      background-color: #E8F0FE;\n",
              "      border: none;\n",
              "      border-radius: 50%;\n",
              "      cursor: pointer;\n",
              "      display: none;\n",
              "      fill: #1967D2;\n",
              "      height: 32px;\n",
              "      padding: 0 0 0 0;\n",
              "      width: 32px;\n",
              "    }\n",
              "\n",
              "    .colab-df-convert:hover {\n",
              "      background-color: #E2EBFA;\n",
              "      box-shadow: 0px 1px 2px rgba(60, 64, 67, 0.3), 0px 1px 3px 1px rgba(60, 64, 67, 0.15);\n",
              "      fill: #174EA6;\n",
              "    }\n",
              "\n",
              "    [theme=dark] .colab-df-convert {\n",
              "      background-color: #3B4455;\n",
              "      fill: #D2E3FC;\n",
              "    }\n",
              "\n",
              "    [theme=dark] .colab-df-convert:hover {\n",
              "      background-color: #434B5C;\n",
              "      box-shadow: 0px 1px 3px 1px rgba(0, 0, 0, 0.15);\n",
              "      filter: drop-shadow(0px 1px 2px rgba(0, 0, 0, 0.3));\n",
              "      fill: #FFFFFF;\n",
              "    }\n",
              "  </style>\n",
              "\n",
              "      <script>\n",
              "        const buttonEl =\n",
              "          document.querySelector('#df-fab06ed3-cc7e-483d-a884-2a18346f9de8 button.colab-df-convert');\n",
              "        buttonEl.style.display =\n",
              "          google.colab.kernel.accessAllowed ? 'block' : 'none';\n",
              "\n",
              "        async function convertToInteractive(key) {\n",
              "          const element = document.querySelector('#df-fab06ed3-cc7e-483d-a884-2a18346f9de8');\n",
              "          const dataTable =\n",
              "            await google.colab.kernel.invokeFunction('convertToInteractive',\n",
              "                                                     [key], {});\n",
              "          if (!dataTable) return;\n",
              "\n",
              "          const docLinkHtml = 'Like what you see? Visit the ' +\n",
              "            '<a target=\"_blank\" href=https://colab.research.google.com/notebooks/data_table.ipynb>data table notebook</a>'\n",
              "            + ' to learn more about interactive tables.';\n",
              "          element.innerHTML = '';\n",
              "          dataTable['output_type'] = 'display_data';\n",
              "          await google.colab.output.renderOutput(dataTable, element);\n",
              "          const docLink = document.createElement('div');\n",
              "          docLink.innerHTML = docLinkHtml;\n",
              "          element.appendChild(docLink);\n",
              "        }\n",
              "      </script>\n",
              "    </div>\n",
              "  </div>\n",
              "  "
            ],
            "text/plain": [
              "          age       tsh        t3       tt4       t4u       fti\n",
              "age  1.153222  0.026351  0.437361 -0.137834  0.095815 -0.044687\n",
              "tsh  0.026351  1.191186  0.113134  0.673354 -0.445138 -0.315997\n",
              "t3   0.437361  0.113134  1.831375 -0.570513 -0.583403 -0.333657\n",
              "tt4 -0.137834  0.673354 -0.570513  4.601500 -2.371599 -3.457634\n",
              "t4u  0.095815 -0.445138 -0.583403 -2.371599  2.815462  2.507550\n",
              "fti -0.044687 -0.315997 -0.333657 -3.457634  2.507550  4.103536"
            ]
          },
          "metadata": {},
          "execution_count": 35
        }
      ]
    },
    {
      "cell_type": "markdown",
      "source": [
        "MODELLING"
      ],
      "metadata": {
        "id": "8WakB1hgB7I3"
      }
    },
    {
      "cell_type": "markdown",
      "source": [
        "Random Forest Classifier "
      ],
      "metadata": {
        "id": "I_YV6DY5CAGp"
      }
    },
    {
      "cell_type": "code",
      "source": [
        "X2 = hypothyroid.drop('status', axis = 1)\n",
        "y2 = hypothyroid.status\n",
        "from sklearn.ensemble import RandomForestClassifier\n",
        "from sklearn.model_selection import train_test_split\n",
        "\n",
        "# Split the independent and dependent variables\n",
        "X2_train, X2_test, y2_train, y2_test = train_test_split(X2, y2, test_size=0.3, random_state=0)\n",
        "# Import the model\n",
        "from sklearn.ensemble import RandomForestClassifier\n",
        "\n",
        "# The random_state variable is here to guarantee that we all see the same numbers.\n",
        "# Note that we can provide the same parameters as in the decision tree, such as \n",
        "# min_samples_split or max_depth\n",
        "\n",
        "forest = RandomForestClassifier(n_estimators = 100, random_state=42, min_samples_split = 10, max_depth=5)\n",
        "\n",
        "forest = forest.fit(X2_train, y2_train)\n",
        "\n",
        "# Predict based on the model we've trained\n",
        "y2_pred = forest.predict(X2_test)\n",
        "\n",
        "\n",
        "comparison_frame = pd.DataFrame({'Actual': y2_test, 'Predicted': y2_pred})\n",
        "\n",
        "comparison_frame.head(5)\n"
      ],
      "metadata": {
        "colab": {
          "base_uri": "https://localhost:8080/",
          "height": 206
        },
        "id": "5U7iDEC8nWTa",
        "outputId": "b9e0f49a-b514-4c1e-e44d-9d68ffe431ad"
      },
      "execution_count": 36,
      "outputs": [
        {
          "output_type": "execute_result",
          "data": {
            "text/html": [
              "\n",
              "  <div id=\"df-28b3b1a2-2c4b-439a-8828-d2ffef827423\">\n",
              "    <div class=\"colab-df-container\">\n",
              "      <div>\n",
              "<style scoped>\n",
              "    .dataframe tbody tr th:only-of-type {\n",
              "        vertical-align: middle;\n",
              "    }\n",
              "\n",
              "    .dataframe tbody tr th {\n",
              "        vertical-align: top;\n",
              "    }\n",
              "\n",
              "    .dataframe thead th {\n",
              "        text-align: right;\n",
              "    }\n",
              "</style>\n",
              "<table border=\"1\" class=\"dataframe\">\n",
              "  <thead>\n",
              "    <tr style=\"text-align: right;\">\n",
              "      <th></th>\n",
              "      <th>Actual</th>\n",
              "      <th>Predicted</th>\n",
              "    </tr>\n",
              "  </thead>\n",
              "  <tbody>\n",
              "    <tr>\n",
              "      <th>2526</th>\n",
              "      <td>1</td>\n",
              "      <td>1</td>\n",
              "    </tr>\n",
              "    <tr>\n",
              "      <th>2334</th>\n",
              "      <td>1</td>\n",
              "      <td>1</td>\n",
              "    </tr>\n",
              "    <tr>\n",
              "      <th>24</th>\n",
              "      <td>0</td>\n",
              "      <td>0</td>\n",
              "    </tr>\n",
              "    <tr>\n",
              "      <th>1096</th>\n",
              "      <td>1</td>\n",
              "      <td>1</td>\n",
              "    </tr>\n",
              "    <tr>\n",
              "      <th>279</th>\n",
              "      <td>1</td>\n",
              "      <td>1</td>\n",
              "    </tr>\n",
              "  </tbody>\n",
              "</table>\n",
              "</div>\n",
              "      <button class=\"colab-df-convert\" onclick=\"convertToInteractive('df-28b3b1a2-2c4b-439a-8828-d2ffef827423')\"\n",
              "              title=\"Convert this dataframe to an interactive table.\"\n",
              "              style=\"display:none;\">\n",
              "        \n",
              "  <svg xmlns=\"http://www.w3.org/2000/svg\" height=\"24px\"viewBox=\"0 0 24 24\"\n",
              "       width=\"24px\">\n",
              "    <path d=\"M0 0h24v24H0V0z\" fill=\"none\"/>\n",
              "    <path d=\"M18.56 5.44l.94 2.06.94-2.06 2.06-.94-2.06-.94-.94-2.06-.94 2.06-2.06.94zm-11 1L8.5 8.5l.94-2.06 2.06-.94-2.06-.94L8.5 2.5l-.94 2.06-2.06.94zm10 10l.94 2.06.94-2.06 2.06-.94-2.06-.94-.94-2.06-.94 2.06-2.06.94z\"/><path d=\"M17.41 7.96l-1.37-1.37c-.4-.4-.92-.59-1.43-.59-.52 0-1.04.2-1.43.59L10.3 9.45l-7.72 7.72c-.78.78-.78 2.05 0 2.83L4 21.41c.39.39.9.59 1.41.59.51 0 1.02-.2 1.41-.59l7.78-7.78 2.81-2.81c.8-.78.8-2.07 0-2.86zM5.41 20L4 18.59l7.72-7.72 1.47 1.35L5.41 20z\"/>\n",
              "  </svg>\n",
              "      </button>\n",
              "      \n",
              "  <style>\n",
              "    .colab-df-container {\n",
              "      display:flex;\n",
              "      flex-wrap:wrap;\n",
              "      gap: 12px;\n",
              "    }\n",
              "\n",
              "    .colab-df-convert {\n",
              "      background-color: #E8F0FE;\n",
              "      border: none;\n",
              "      border-radius: 50%;\n",
              "      cursor: pointer;\n",
              "      display: none;\n",
              "      fill: #1967D2;\n",
              "      height: 32px;\n",
              "      padding: 0 0 0 0;\n",
              "      width: 32px;\n",
              "    }\n",
              "\n",
              "    .colab-df-convert:hover {\n",
              "      background-color: #E2EBFA;\n",
              "      box-shadow: 0px 1px 2px rgba(60, 64, 67, 0.3), 0px 1px 3px 1px rgba(60, 64, 67, 0.15);\n",
              "      fill: #174EA6;\n",
              "    }\n",
              "\n",
              "    [theme=dark] .colab-df-convert {\n",
              "      background-color: #3B4455;\n",
              "      fill: #D2E3FC;\n",
              "    }\n",
              "\n",
              "    [theme=dark] .colab-df-convert:hover {\n",
              "      background-color: #434B5C;\n",
              "      box-shadow: 0px 1px 3px 1px rgba(0, 0, 0, 0.15);\n",
              "      filter: drop-shadow(0px 1px 2px rgba(0, 0, 0, 0.3));\n",
              "      fill: #FFFFFF;\n",
              "    }\n",
              "  </style>\n",
              "\n",
              "      <script>\n",
              "        const buttonEl =\n",
              "          document.querySelector('#df-28b3b1a2-2c4b-439a-8828-d2ffef827423 button.colab-df-convert');\n",
              "        buttonEl.style.display =\n",
              "          google.colab.kernel.accessAllowed ? 'block' : 'none';\n",
              "\n",
              "        async function convertToInteractive(key) {\n",
              "          const element = document.querySelector('#df-28b3b1a2-2c4b-439a-8828-d2ffef827423');\n",
              "          const dataTable =\n",
              "            await google.colab.kernel.invokeFunction('convertToInteractive',\n",
              "                                                     [key], {});\n",
              "          if (!dataTable) return;\n",
              "\n",
              "          const docLinkHtml = 'Like what you see? Visit the ' +\n",
              "            '<a target=\"_blank\" href=https://colab.research.google.com/notebooks/data_table.ipynb>data table notebook</a>'\n",
              "            + ' to learn more about interactive tables.';\n",
              "          element.innerHTML = '';\n",
              "          dataTable['output_type'] = 'display_data';\n",
              "          await google.colab.output.renderOutput(dataTable, element);\n",
              "          const docLink = document.createElement('div');\n",
              "          docLink.innerHTML = docLinkHtml;\n",
              "          element.appendChild(docLink);\n",
              "        }\n",
              "      </script>\n",
              "    </div>\n",
              "  </div>\n",
              "  "
            ],
            "text/plain": [
              "      Actual  Predicted\n",
              "2526       1          1\n",
              "2334       1          1\n",
              "24         0          0\n",
              "1096       1          1\n",
              "279        1          1"
            ]
          },
          "metadata": {},
          "execution_count": 36
        }
      ]
    },
    {
      "cell_type": "code",
      "source": [
        "from sklearn import metrics\n",
        "\n",
        "# And now we assess the errors\n",
        "print('Mean Absolute Error:', metrics.mean_absolute_error(y2_test, y2_pred))  \n",
        "print('Mean Squared Error:', metrics.mean_squared_error(y2_test, y2_pred))  \n",
        "print('Root Mean Squared Error:', np.sqrt(metrics.mean_squared_error(y2_test, y2_pred)))"
      ],
      "metadata": {
        "colab": {
          "base_uri": "https://localhost:8080/"
        },
        "id": "liCY-h13okhp",
        "outputId": "e67c7a16-65c7-4439-858b-f0828d23c316"
      },
      "execution_count": 37,
      "outputs": [
        {
          "output_type": "stream",
          "name": "stdout",
          "text": [
            "Mean Absolute Error: 0.01611047180667434\n",
            "Mean Squared Error: 0.01611047180667434\n",
            "Root Mean Squared Error: 0.12692703339586228\n"
          ]
        }
      ]
    },
    {
      "cell_type": "code",
      "source": [
        "X1 = hypothyroid[['tt4_measured','lithium','sick','on_antithyroid_medication','tumor','query_hypothyroid','pregnant','query_on_thyroxine','tt4','t3','age']]\n",
        "\n",
        "y1 = hypothyroid.status\n",
        "from sklearn.ensemble import RandomForestClassifier\n",
        "from sklearn.model_selection import train_test_split\n",
        "\n",
        "# Split the independent and dependent variables\n",
        "X1_train, X1_test, y1_train, y1_test = train_test_split(X1, y1, test_size=0.3, random_state=0)\n",
        "# Import the model\n",
        "from sklearn.ensemble import RandomForestClassifier\n",
        "\n",
        "# The random_state variable is here to guarantee that we all see the same numbers.\n",
        "# Note that we can provide the same parameters as in the decision tree, such as \n",
        "# min_samples_split or max_depth\n",
        "\n",
        "forest = RandomForestClassifier(n_estimators = 100, random_state=42, min_samples_split = 10, max_depth=5)\n",
        "\n",
        "forest = forest.fit(X1_train, y1_train)\n",
        "\n",
        "# Predict based on the model we've trained\n",
        "y1_pred = forest.predict(X1_test)\n",
        "\n",
        "\n",
        "comparison_frame = pd.DataFrame({'Actual': y1_test, 'Predicted': y1_pred})\n",
        "\n",
        "comparison_frame.head(5)"
      ],
      "metadata": {
        "colab": {
          "base_uri": "https://localhost:8080/",
          "height": 206
        },
        "id": "YxNtkYJ14Hw8",
        "outputId": "b1e2a0a6-1218-48c1-b2da-c70a05357512"
      },
      "execution_count": 38,
      "outputs": [
        {
          "output_type": "execute_result",
          "data": {
            "text/html": [
              "\n",
              "  <div id=\"df-9f49ecc5-85a9-4047-8f0e-23b36ccb80df\">\n",
              "    <div class=\"colab-df-container\">\n",
              "      <div>\n",
              "<style scoped>\n",
              "    .dataframe tbody tr th:only-of-type {\n",
              "        vertical-align: middle;\n",
              "    }\n",
              "\n",
              "    .dataframe tbody tr th {\n",
              "        vertical-align: top;\n",
              "    }\n",
              "\n",
              "    .dataframe thead th {\n",
              "        text-align: right;\n",
              "    }\n",
              "</style>\n",
              "<table border=\"1\" class=\"dataframe\">\n",
              "  <thead>\n",
              "    <tr style=\"text-align: right;\">\n",
              "      <th></th>\n",
              "      <th>Actual</th>\n",
              "      <th>Predicted</th>\n",
              "    </tr>\n",
              "  </thead>\n",
              "  <tbody>\n",
              "    <tr>\n",
              "      <th>2526</th>\n",
              "      <td>1</td>\n",
              "      <td>1</td>\n",
              "    </tr>\n",
              "    <tr>\n",
              "      <th>2334</th>\n",
              "      <td>1</td>\n",
              "      <td>1</td>\n",
              "    </tr>\n",
              "    <tr>\n",
              "      <th>24</th>\n",
              "      <td>0</td>\n",
              "      <td>0</td>\n",
              "    </tr>\n",
              "    <tr>\n",
              "      <th>1096</th>\n",
              "      <td>1</td>\n",
              "      <td>1</td>\n",
              "    </tr>\n",
              "    <tr>\n",
              "      <th>279</th>\n",
              "      <td>1</td>\n",
              "      <td>1</td>\n",
              "    </tr>\n",
              "  </tbody>\n",
              "</table>\n",
              "</div>\n",
              "      <button class=\"colab-df-convert\" onclick=\"convertToInteractive('df-9f49ecc5-85a9-4047-8f0e-23b36ccb80df')\"\n",
              "              title=\"Convert this dataframe to an interactive table.\"\n",
              "              style=\"display:none;\">\n",
              "        \n",
              "  <svg xmlns=\"http://www.w3.org/2000/svg\" height=\"24px\"viewBox=\"0 0 24 24\"\n",
              "       width=\"24px\">\n",
              "    <path d=\"M0 0h24v24H0V0z\" fill=\"none\"/>\n",
              "    <path d=\"M18.56 5.44l.94 2.06.94-2.06 2.06-.94-2.06-.94-.94-2.06-.94 2.06-2.06.94zm-11 1L8.5 8.5l.94-2.06 2.06-.94-2.06-.94L8.5 2.5l-.94 2.06-2.06.94zm10 10l.94 2.06.94-2.06 2.06-.94-2.06-.94-.94-2.06-.94 2.06-2.06.94z\"/><path d=\"M17.41 7.96l-1.37-1.37c-.4-.4-.92-.59-1.43-.59-.52 0-1.04.2-1.43.59L10.3 9.45l-7.72 7.72c-.78.78-.78 2.05 0 2.83L4 21.41c.39.39.9.59 1.41.59.51 0 1.02-.2 1.41-.59l7.78-7.78 2.81-2.81c.8-.78.8-2.07 0-2.86zM5.41 20L4 18.59l7.72-7.72 1.47 1.35L5.41 20z\"/>\n",
              "  </svg>\n",
              "      </button>\n",
              "      \n",
              "  <style>\n",
              "    .colab-df-container {\n",
              "      display:flex;\n",
              "      flex-wrap:wrap;\n",
              "      gap: 12px;\n",
              "    }\n",
              "\n",
              "    .colab-df-convert {\n",
              "      background-color: #E8F0FE;\n",
              "      border: none;\n",
              "      border-radius: 50%;\n",
              "      cursor: pointer;\n",
              "      display: none;\n",
              "      fill: #1967D2;\n",
              "      height: 32px;\n",
              "      padding: 0 0 0 0;\n",
              "      width: 32px;\n",
              "    }\n",
              "\n",
              "    .colab-df-convert:hover {\n",
              "      background-color: #E2EBFA;\n",
              "      box-shadow: 0px 1px 2px rgba(60, 64, 67, 0.3), 0px 1px 3px 1px rgba(60, 64, 67, 0.15);\n",
              "      fill: #174EA6;\n",
              "    }\n",
              "\n",
              "    [theme=dark] .colab-df-convert {\n",
              "      background-color: #3B4455;\n",
              "      fill: #D2E3FC;\n",
              "    }\n",
              "\n",
              "    [theme=dark] .colab-df-convert:hover {\n",
              "      background-color: #434B5C;\n",
              "      box-shadow: 0px 1px 3px 1px rgba(0, 0, 0, 0.15);\n",
              "      filter: drop-shadow(0px 1px 2px rgba(0, 0, 0, 0.3));\n",
              "      fill: #FFFFFF;\n",
              "    }\n",
              "  </style>\n",
              "\n",
              "      <script>\n",
              "        const buttonEl =\n",
              "          document.querySelector('#df-9f49ecc5-85a9-4047-8f0e-23b36ccb80df button.colab-df-convert');\n",
              "        buttonEl.style.display =\n",
              "          google.colab.kernel.accessAllowed ? 'block' : 'none';\n",
              "\n",
              "        async function convertToInteractive(key) {\n",
              "          const element = document.querySelector('#df-9f49ecc5-85a9-4047-8f0e-23b36ccb80df');\n",
              "          const dataTable =\n",
              "            await google.colab.kernel.invokeFunction('convertToInteractive',\n",
              "                                                     [key], {});\n",
              "          if (!dataTable) return;\n",
              "\n",
              "          const docLinkHtml = 'Like what you see? Visit the ' +\n",
              "            '<a target=\"_blank\" href=https://colab.research.google.com/notebooks/data_table.ipynb>data table notebook</a>'\n",
              "            + ' to learn more about interactive tables.';\n",
              "          element.innerHTML = '';\n",
              "          dataTable['output_type'] = 'display_data';\n",
              "          await google.colab.output.renderOutput(dataTable, element);\n",
              "          const docLink = document.createElement('div');\n",
              "          docLink.innerHTML = docLinkHtml;\n",
              "          element.appendChild(docLink);\n",
              "        }\n",
              "      </script>\n",
              "    </div>\n",
              "  </div>\n",
              "  "
            ],
            "text/plain": [
              "      Actual  Predicted\n",
              "2526       1          1\n",
              "2334       1          1\n",
              "24         0          0\n",
              "1096       1          1\n",
              "279        1          1"
            ]
          },
          "metadata": {},
          "execution_count": 38
        }
      ]
    },
    {
      "cell_type": "code",
      "source": [
        "from sklearn import metrics\n",
        "\n",
        "# And now we assess the errors\n",
        "print('Mean Absolute Error:', metrics.mean_absolute_error(y1_test, y1_pred))  \n",
        "print('Mean Squared Error:', metrics.mean_squared_error(y1_test, y1_pred))  \n",
        "print('Root Mean Squared Error:', np.sqrt(metrics.mean_squared_error(y1_test, y1_pred)))"
      ],
      "metadata": {
        "colab": {
          "base_uri": "https://localhost:8080/"
        },
        "id": "dvZRSn9h4UV3",
        "outputId": "c25747f4-2431-4276-dce2-88c77ceb9591"
      },
      "execution_count": 39,
      "outputs": [
        {
          "output_type": "stream",
          "name": "stdout",
          "text": [
            "Mean Absolute Error: 0.02531645569620253\n",
            "Mean Squared Error: 0.02531645569620253\n",
            "Root Mean Squared Error: 0.15911145683514602\n"
          ]
        }
      ]
    },
    {
      "cell_type": "code",
      "source": [
        "!pip install --upgrade scikit-learn==0.22"
      ],
      "metadata": {
        "colab": {
          "base_uri": "https://localhost:8080/",
          "height": 367
        },
        "id": "mjXyGVweABpF",
        "outputId": "534f0698-4832-4e31-cfdd-f17a6971f948"
      },
      "execution_count": 40,
      "outputs": [
        {
          "output_type": "stream",
          "name": "stdout",
          "text": [
            "Collecting scikit-learn==0.22\n",
            "  Downloading scikit_learn-0.22-cp37-cp37m-manylinux1_x86_64.whl (7.0 MB)\n",
            "\u001b[K     |████████████████████████████████| 7.0 MB 5.4 MB/s \n",
            "\u001b[?25hRequirement already satisfied: joblib>=0.11 in /usr/local/lib/python3.7/dist-packages (from scikit-learn==0.22) (1.1.0)\n",
            "Requirement already satisfied: scipy>=0.17.0 in /usr/local/lib/python3.7/dist-packages (from scikit-learn==0.22) (1.4.1)\n",
            "Requirement already satisfied: numpy>=1.11.0 in /usr/local/lib/python3.7/dist-packages (from scikit-learn==0.22) (1.21.5)\n",
            "Installing collected packages: scikit-learn\n",
            "  Attempting uninstall: scikit-learn\n",
            "    Found existing installation: scikit-learn 1.0.2\n",
            "    Uninstalling scikit-learn-1.0.2:\n",
            "      Successfully uninstalled scikit-learn-1.0.2\n",
            "\u001b[31mERROR: pip's dependency resolver does not currently take into account all the packages that are installed. This behaviour is the source of the following dependency conflicts.\n",
            "imbalanced-learn 0.8.1 requires scikit-learn>=0.24, but you have scikit-learn 0.22 which is incompatible.\u001b[0m\n",
            "Successfully installed scikit-learn-0.22\n"
          ]
        },
        {
          "output_type": "display_data",
          "data": {
            "application/vnd.colab-display-data+json": {
              "pip_warning": {
                "packages": [
                  "sklearn"
                ]
              }
            }
          },
          "metadata": {}
        }
      ]
    },
    {
      "cell_type": "code",
      "source": [
        "\n",
        "#Visualizing tree number 50\n",
        "from sklearn.tree import export_graphviz\n",
        "from sklearn.externals.six import StringIO\n",
        "\n",
        "from IPython.display import Image  \n",
        "import pydotplus\n",
        "y1_pred = forest.predict(X1_test)\n",
        "dot_data = StringIO()\n",
        "\n",
        "# picking a specific tree from the forest; tree  number 50\n",
        "tree = forest.estimators_[50]\n",
        "\n",
        "export_graphviz(tree, out_file=dot_data,  \n",
        "                filled=True, rounded=True,\n",
        "                special_characters=True,feature_names = X1.columns)\n",
        "graph = pydotplus.graph_from_dot_data(dot_data.getvalue())  \n",
        "graph.write_png('Hypothyroid.png')\n",
        "Image(graph.create_png())"
      ],
      "metadata": {
        "colab": {
          "base_uri": "https://localhost:8080/",
          "height": 468
        },
        "id": "lSEJA42N-ObE",
        "outputId": "3bd262dd-962c-4458-91ee-de37ce1201ea"
      },
      "execution_count": 41,
      "outputs": [
        {
          "output_type": "stream",
          "name": "stderr",
          "text": [
            "/usr/local/lib/python3.7/dist-packages/sklearn/externals/six.py:31: FutureWarning: The module is deprecated in version 0.21 and will be removed in version 0.23 since we've dropped support for Python 2.7. Please rely on the official version of six (https://pypi.org/project/six/).\n",
            "  \"(https://pypi.org/project/six/).\", FutureWarning)\n"
          ]
        },
        {
          "output_type": "execute_result",
          "data": {
            "image/png": "[encoded data removed]",
            "text/plain": [
              "<IPython.core.display.Image object>"
            ]
          },
          "metadata": {},
          "execution_count": 41
        }
      ]
    },
    {
      "cell_type": "markdown",
      "source": [
        "Ada boosted trees\n"
      ],
      "metadata": {
        "id": "XCnUNMVBBa2y"
      }
    },
    {
      "cell_type": "code",
      "source": [
        "\n",
        "from sklearn.ensemble import AdaBoostClassifier\n",
        "from sklearn.tree import DecisionTreeClassifier\n",
        "from sklearn.metrics import accuracy_score\n",
        "\n",
        "\n",
        "# Note that adaboost needs a simple decision tree in its constructor. Again, tweak the max_depth and see how it influences the process\n",
        "ada_boost = AdaBoostClassifier(DecisionTreeClassifier(max_depth=4),\n",
        "                          n_estimators=300, random_state=5)\n",
        "\n",
        "ada_boost = ada_boost.fit(X1_train, y1_train)\n",
        "\n",
        "y1_pred_ada = ada_boost.predict(X1_test)\n",
        "\n",
        "accuracy_score(y1_test, y1_pred_ada)\n"
      ],
      "metadata": {
        "colab": {
          "base_uri": "https://localhost:8080/"
        },
        "id": "XogQC7wEDz7M",
        "outputId": "dd3b2938-1d1e-4f76-a094-77ccbcb29696"
      },
      "execution_count": 42,
      "outputs": [
        {
          "output_type": "execute_result",
          "data": {
            "text/plain": [
              "0.9654775604142692"
            ]
          },
          "metadata": {},
          "execution_count": 42
        }
      ]
    },
    {
      "cell_type": "markdown",
      "source": [
        "Gradient Boosted Trees"
      ],
      "metadata": {
        "id": "QDlvpOl8j7eh"
      }
    },
    {
      "cell_type": "code",
      "source": [
        "#from sklearn.ensemble import GradientBoostingRegressor\n",
        "from sklearn.ensemble import GradientBoostingClassifier\n",
        "target_number_of_trees = 30\n",
        "\n",
        "gradient_classifier = GradientBoostingClassifier(n_estimators=target_number_of_trees, learning_rate=0.001, max_depth=20)\n",
        "gradient_classifier = gradient_classifier.fit(X1_train, y1_train)\n",
        "\n",
        "y1_pred_gradient_classifier = gradient_classifier.predict(X1_test)\n",
        "accuracy_score(y1_test, y1_pred_gradient_classifier)"
      ],
      "metadata": {
        "colab": {
          "base_uri": "https://localhost:8080/"
        },
        "id": "UWPoHHTziYHq",
        "outputId": "23e558dd-3d69-4fdf-d62a-1a0329e6f84c"
      },
      "execution_count": 43,
      "outputs": [
        {
          "output_type": "execute_result",
          "data": {
            "text/plain": [
              "0.9585730724971231"
            ]
          },
          "metadata": {},
          "execution_count": 43
        }
      ]
    },
    {
      "cell_type": "markdown",
      "source": [
        "**SUPPORT VECTOR MACHINES**"
      ],
      "metadata": {
        "id": "5ntquo0ek0-N"
      }
    },
    {
      "cell_type": "code",
      "source": [
        "#Kernel= linear\n",
        "from sklearn.svm import SVC\n",
        "# Building the model \n",
        "polyclassifier = SVC(kernel='linear',degree=15,gamma='auto')\n",
        "# Training the model using the training set\n",
        "polyclassifier.fit(X1_train, y1_train)\n",
        "poly_pred = polyclassifier.predict(X1_test)\n",
        "accuracy_score(y1_test, poly_pred)"
      ],
      "metadata": {
        "colab": {
          "base_uri": "https://localhost:8080/"
        },
        "id": "tFRilzdQlCIu",
        "outputId": "7bd7cbf3-80b4-423c-87c7-99d5ac834d98"
      },
      "execution_count": 44,
      "outputs": [
        {
          "output_type": "execute_result",
          "data": {
            "text/plain": [
              "0.9769850402761795"
            ]
          },
          "metadata": {},
          "execution_count": 44
        }
      ]
    },
    {
      "cell_type": "code",
      "source": [
        "#kernel= rbf\n",
        "from sklearn.svm import SVC\n",
        "# Building the model \n",
        "polyclassifier1 = SVC(kernel='rbf',degree=15,gamma='auto')\n",
        "# Training the model using the training set\n",
        "polyclassifier1.fit(X1_train, y1_train)\n",
        "poly_pred1 = polyclassifier1.predict(X1_test)\n",
        "accuracy_score(y1_test, poly_pred1)\n"
      ],
      "metadata": {
        "colab": {
          "base_uri": "https://localhost:8080/"
        },
        "id": "GMdDGEofmQiq",
        "outputId": "a60535ab-bdcf-4742-aff0-cc14a3482d0c"
      },
      "execution_count": 45,
      "outputs": [
        {
          "output_type": "execute_result",
          "data": {
            "text/plain": [
              "0.9597238204833142"
            ]
          },
          "metadata": {},
          "execution_count": 45
        }
      ]
    },
    {
      "cell_type": "code",
      "source": [
        "#kernel= polynomial\n",
        "from sklearn.svm import SVC\n",
        "# Building the model \n",
        "polyclassifier2 = SVC(kernel='poly',degree=15,gamma='auto')\n",
        "# Training the model using the training set\n",
        "polyclassifier2.fit(X1_train, y1_train)\n",
        "poly_pred2 = polyclassifier2.predict(X1_test)\n",
        "accuracy_score(y1_test, poly_pred2)\n"
      ],
      "metadata": {
        "colab": {
          "base_uri": "https://localhost:8080/"
        },
        "id": "svSBhI-ImhF5",
        "outputId": "faa08d68-ef91-44d8-a62f-f7ac54695b88"
      },
      "execution_count": 46,
      "outputs": [
        {
          "output_type": "execute_result",
          "data": {
            "text/plain": [
              "0.9585730724971231"
            ]
          },
          "metadata": {},
          "execution_count": 46
        }
      ]
    },
    {
      "cell_type": "code",
      "source": [
        " # to get the most importantfeatures\n",
        "tree = forest.estimators_[50]\n",
        "\n",
        "features = X\n",
        "\n",
        "importances = list(tree.feature_importances_)\n",
        "feature_importances = [(feature, round(importance, 2)) for feature, importance \n",
        "                       in zip(features, importances)]\n",
        "# sort in descending order\n",
        "feature_importances = sorted(feature_importances, key = lambda x: x[1], \n",
        "                             reverse = True)\n",
        "feature_importances"
      ],
      "metadata": {
        "colab": {
          "base_uri": "https://localhost:8080/"
        },
        "id": "ux9c601braxz",
        "outputId": "f97b0eb3-1887-45e4-a48a-8b02b9a8f25f"
      },
      "execution_count": 47,
      "outputs": [
        {
          "output_type": "execute_result",
          "data": {
            "text/plain": [
              "[('pregnant', 0.94),\n",
              " ('sick', 0.05),\n",
              " ('thyroid_surgery', 0.01),\n",
              " ('tumor', 0.01),\n",
              " ('age', 0.0),\n",
              " ('sex', 0.0),\n",
              " ('on_thyroxine', 0.0),\n",
              " ('query_on_thyroxine', 0.0),\n",
              " ('on_antithyroid_medication', 0.0),\n",
              " ('query_hypothyroid', 0.0),\n",
              " ('query_hyperthyroid', 0.0)]"
            ]
          },
          "metadata": {},
          "execution_count": 47
        }
      ]
    },
    {
      "cell_type": "code",
      "source": [
        "#creating a new set of independent variables based on their importance\n",
        "X2 = hypothyroid[['pregnant','sick','thyroid_surgery','tumor','age']]\n",
        "X2 = pd.get_dummies(X2)"
      ],
      "metadata": {
        "id": "aIT9kUJUtW66"
      },
      "execution_count": 48,
      "outputs": []
    },
    {
      "cell_type": "code",
      "source": [
        "X2_train, X2_test, y2_train, y2_test = train_test_split(X2, y2, test_size=0.3, random_state=0)\n",
        "\n",
        "#from sklearn.ensemble import GradientBoostingClassifier\n",
        "from sklearn.ensemble import GradientBoostingClassifier\n",
        "target_number_of_trees = 30\n",
        "\n",
        "gbc = GradientBoostingClassifier(n_estimators=target_number_of_trees, learning_rate=0.001, max_depth=20)\n",
        "gbc = gbc.fit(X2_train, y2_train)\n",
        "\n",
        "y2_pred_gbc = gbc.predict(X2_test)\n",
        "accuracy_score(y2_test, y2_pred_gbc)"
      ],
      "metadata": {
        "colab": {
          "base_uri": "https://localhost:8080/"
        },
        "id": "oIqrK0hhxPn9",
        "outputId": "5efa16e0-3581-458a-b96c-b955a06d8d3f"
      },
      "execution_count": 49,
      "outputs": [
        {
          "output_type": "execute_result",
          "data": {
            "text/plain": [
              "0.9585730724971231"
            ]
          },
          "metadata": {},
          "execution_count": 49
        }
      ]
    },
    {
      "cell_type": "markdown",
      "source": [
        "Using the 5 best features gives an accuracy score of 95.8%.\n",
        "\n",
        "This means using the additional features overfits the data.\n",
        "\n",
        "thus reducing features to most important ones will  increase the accuracy of the model.\n",
        "\n"
      ],
      "metadata": {
        "id": "GJKGVti7yAfh"
      }
    },
    {
      "cell_type": "markdown",
      "source": [
        "From the observations made ,we would adopt a model from support vector machine where we use linear kernel because has an accuracy of 97.6%"
      ],
      "metadata": {
        "id": "67vSuVYly4Mt"
      }
    }
  ]
}